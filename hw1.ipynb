{
  "nbformat": 4,
  "nbformat_minor": 0,
  "metadata": {
    "colab": {
      "name": "hw1.ipynb",
      "provenance": [],
      "collapsed_sections": [
        "N2bbZXrJC8zZ",
        "CBYfcOJZC8zd"
      ]
    },
    "kernelspec": {
      "display_name": "Python 3 (ipykernel)",
      "language": "python",
      "name": "python3"
    },
    "language_info": {
      "codemirror_mode": {
        "name": "ipython",
        "version": 3
      },
      "file_extension": ".py",
      "mimetype": "text/x-python",
      "name": "python",
      "nbconvert_exporter": "python",
      "pygments_lexer": "ipython3",
      "version": "3.7.0"
    },
    "widgets": {
      "application/vnd.jupyter.widget-state+json": {
        "a2466a8c73cc48209a18189b722eaf83": {
          "model_module": "@jupyter-widgets/controls",
          "model_name": "HBoxModel",
          "model_module_version": "1.5.0",
          "state": {
            "_view_name": "HBoxView",
            "_dom_classes": [],
            "_model_name": "HBoxModel",
            "_view_module": "@jupyter-widgets/controls",
            "_model_module_version": "1.5.0",
            "_view_count": null,
            "_view_module_version": "1.5.0",
            "box_style": "",
            "layout": "IPY_MODEL_21ae41c5c20745098e366440ff133524",
            "_model_module": "@jupyter-widgets/controls",
            "children": [
              "IPY_MODEL_f948b0316f014753affbbd998d3bd4a0",
              "IPY_MODEL_21a15e1555de4ec9ae47134b2e571023",
              "IPY_MODEL_4a8a26f951da423c84d6b2c20a261c5a"
            ]
          }
        },
        "21ae41c5c20745098e366440ff133524": {
          "model_module": "@jupyter-widgets/base",
          "model_name": "LayoutModel",
          "model_module_version": "1.2.0",
          "state": {
            "_view_name": "LayoutView",
            "grid_template_rows": null,
            "right": null,
            "justify_content": null,
            "_view_module": "@jupyter-widgets/base",
            "overflow": null,
            "_model_module_version": "1.2.0",
            "_view_count": null,
            "flex_flow": null,
            "width": null,
            "min_width": null,
            "border": null,
            "align_items": null,
            "bottom": null,
            "_model_module": "@jupyter-widgets/base",
            "top": null,
            "grid_column": null,
            "overflow_y": null,
            "overflow_x": null,
            "grid_auto_flow": null,
            "grid_area": null,
            "grid_template_columns": null,
            "flex": null,
            "_model_name": "LayoutModel",
            "justify_items": null,
            "grid_row": null,
            "max_height": null,
            "align_content": null,
            "visibility": null,
            "align_self": null,
            "height": null,
            "min_height": null,
            "padding": null,
            "grid_auto_rows": null,
            "grid_gap": null,
            "max_width": null,
            "order": null,
            "_view_module_version": "1.2.0",
            "grid_template_areas": null,
            "object_position": null,
            "object_fit": null,
            "grid_auto_columns": null,
            "margin": null,
            "display": null,
            "left": null
          }
        },
        "f948b0316f014753affbbd998d3bd4a0": {
          "model_module": "@jupyter-widgets/controls",
          "model_name": "HTMLModel",
          "model_module_version": "1.5.0",
          "state": {
            "_view_name": "HTMLView",
            "style": "IPY_MODEL_f92cfc2571cc43118589d01b05df3ad1",
            "_dom_classes": [],
            "description": "",
            "_model_name": "HTMLModel",
            "placeholder": "​",
            "_view_module": "@jupyter-widgets/controls",
            "_model_module_version": "1.5.0",
            "value": "100%",
            "_view_count": null,
            "_view_module_version": "1.5.0",
            "description_tooltip": null,
            "_model_module": "@jupyter-widgets/controls",
            "layout": "IPY_MODEL_7214f0961f4d44308e99fe0631473cc3"
          }
        },
        "21a15e1555de4ec9ae47134b2e571023": {
          "model_module": "@jupyter-widgets/controls",
          "model_name": "FloatProgressModel",
          "model_module_version": "1.5.0",
          "state": {
            "_view_name": "ProgressView",
            "style": "IPY_MODEL_3001b87b397343c4b5f1d655270168f8",
            "_dom_classes": [],
            "description": "",
            "_model_name": "FloatProgressModel",
            "bar_style": "success",
            "max": 1000000,
            "_view_module": "@jupyter-widgets/controls",
            "_model_module_version": "1.5.0",
            "value": 1000000,
            "_view_count": null,
            "_view_module_version": "1.5.0",
            "orientation": "horizontal",
            "min": 0,
            "description_tooltip": null,
            "_model_module": "@jupyter-widgets/controls",
            "layout": "IPY_MODEL_322de59c426b4a35bdb5b08a6a8d3bcf"
          }
        },
        "4a8a26f951da423c84d6b2c20a261c5a": {
          "model_module": "@jupyter-widgets/controls",
          "model_name": "HTMLModel",
          "model_module_version": "1.5.0",
          "state": {
            "_view_name": "HTMLView",
            "style": "IPY_MODEL_af88032978594d4b80073178f51721e3",
            "_dom_classes": [],
            "description": "",
            "_model_name": "HTMLModel",
            "placeholder": "​",
            "_view_module": "@jupyter-widgets/controls",
            "_model_module_version": "1.5.0",
            "value": " 1000000/1000000 [00:54&lt;00:00, 18723.97it/s]",
            "_view_count": null,
            "_view_module_version": "1.5.0",
            "description_tooltip": null,
            "_model_module": "@jupyter-widgets/controls",
            "layout": "IPY_MODEL_c1dbfb9a06be4d2b9b4cb73e8cc9e936"
          }
        },
        "f92cfc2571cc43118589d01b05df3ad1": {
          "model_module": "@jupyter-widgets/controls",
          "model_name": "DescriptionStyleModel",
          "model_module_version": "1.5.0",
          "state": {
            "_view_name": "StyleView",
            "_model_name": "DescriptionStyleModel",
            "description_width": "",
            "_view_module": "@jupyter-widgets/base",
            "_model_module_version": "1.5.0",
            "_view_count": null,
            "_view_module_version": "1.2.0",
            "_model_module": "@jupyter-widgets/controls"
          }
        },
        "7214f0961f4d44308e99fe0631473cc3": {
          "model_module": "@jupyter-widgets/base",
          "model_name": "LayoutModel",
          "model_module_version": "1.2.0",
          "state": {
            "_view_name": "LayoutView",
            "grid_template_rows": null,
            "right": null,
            "justify_content": null,
            "_view_module": "@jupyter-widgets/base",
            "overflow": null,
            "_model_module_version": "1.2.0",
            "_view_count": null,
            "flex_flow": null,
            "width": null,
            "min_width": null,
            "border": null,
            "align_items": null,
            "bottom": null,
            "_model_module": "@jupyter-widgets/base",
            "top": null,
            "grid_column": null,
            "overflow_y": null,
            "overflow_x": null,
            "grid_auto_flow": null,
            "grid_area": null,
            "grid_template_columns": null,
            "flex": null,
            "_model_name": "LayoutModel",
            "justify_items": null,
            "grid_row": null,
            "max_height": null,
            "align_content": null,
            "visibility": null,
            "align_self": null,
            "height": null,
            "min_height": null,
            "padding": null,
            "grid_auto_rows": null,
            "grid_gap": null,
            "max_width": null,
            "order": null,
            "_view_module_version": "1.2.0",
            "grid_template_areas": null,
            "object_position": null,
            "object_fit": null,
            "grid_auto_columns": null,
            "margin": null,
            "display": null,
            "left": null
          }
        },
        "3001b87b397343c4b5f1d655270168f8": {
          "model_module": "@jupyter-widgets/controls",
          "model_name": "ProgressStyleModel",
          "model_module_version": "1.5.0",
          "state": {
            "_view_name": "StyleView",
            "_model_name": "ProgressStyleModel",
            "description_width": "",
            "_view_module": "@jupyter-widgets/base",
            "_model_module_version": "1.5.0",
            "_view_count": null,
            "_view_module_version": "1.2.0",
            "bar_color": null,
            "_model_module": "@jupyter-widgets/controls"
          }
        },
        "322de59c426b4a35bdb5b08a6a8d3bcf": {
          "model_module": "@jupyter-widgets/base",
          "model_name": "LayoutModel",
          "model_module_version": "1.2.0",
          "state": {
            "_view_name": "LayoutView",
            "grid_template_rows": null,
            "right": null,
            "justify_content": null,
            "_view_module": "@jupyter-widgets/base",
            "overflow": null,
            "_model_module_version": "1.2.0",
            "_view_count": null,
            "flex_flow": null,
            "width": null,
            "min_width": null,
            "border": null,
            "align_items": null,
            "bottom": null,
            "_model_module": "@jupyter-widgets/base",
            "top": null,
            "grid_column": null,
            "overflow_y": null,
            "overflow_x": null,
            "grid_auto_flow": null,
            "grid_area": null,
            "grid_template_columns": null,
            "flex": null,
            "_model_name": "LayoutModel",
            "justify_items": null,
            "grid_row": null,
            "max_height": null,
            "align_content": null,
            "visibility": null,
            "align_self": null,
            "height": null,
            "min_height": null,
            "padding": null,
            "grid_auto_rows": null,
            "grid_gap": null,
            "max_width": null,
            "order": null,
            "_view_module_version": "1.2.0",
            "grid_template_areas": null,
            "object_position": null,
            "object_fit": null,
            "grid_auto_columns": null,
            "margin": null,
            "display": null,
            "left": null
          }
        },
        "af88032978594d4b80073178f51721e3": {
          "model_module": "@jupyter-widgets/controls",
          "model_name": "DescriptionStyleModel",
          "model_module_version": "1.5.0",
          "state": {
            "_view_name": "StyleView",
            "_model_name": "DescriptionStyleModel",
            "description_width": "",
            "_view_module": "@jupyter-widgets/base",
            "_model_module_version": "1.5.0",
            "_view_count": null,
            "_view_module_version": "1.2.0",
            "_model_module": "@jupyter-widgets/controls"
          }
        },
        "c1dbfb9a06be4d2b9b4cb73e8cc9e936": {
          "model_module": "@jupyter-widgets/base",
          "model_name": "LayoutModel",
          "model_module_version": "1.2.0",
          "state": {
            "_view_name": "LayoutView",
            "grid_template_rows": null,
            "right": null,
            "justify_content": null,
            "_view_module": "@jupyter-widgets/base",
            "overflow": null,
            "_model_module_version": "1.2.0",
            "_view_count": null,
            "flex_flow": null,
            "width": null,
            "min_width": null,
            "border": null,
            "align_items": null,
            "bottom": null,
            "_model_module": "@jupyter-widgets/base",
            "top": null,
            "grid_column": null,
            "overflow_y": null,
            "overflow_x": null,
            "grid_auto_flow": null,
            "grid_area": null,
            "grid_template_columns": null,
            "flex": null,
            "_model_name": "LayoutModel",
            "justify_items": null,
            "grid_row": null,
            "max_height": null,
            "align_content": null,
            "visibility": null,
            "align_self": null,
            "height": null,
            "min_height": null,
            "padding": null,
            "grid_auto_rows": null,
            "grid_gap": null,
            "max_width": null,
            "order": null,
            "_view_module_version": "1.2.0",
            "grid_template_areas": null,
            "object_position": null,
            "object_fit": null,
            "grid_auto_columns": null,
            "margin": null,
            "display": null,
            "left": null
          }
        },
        "6d262a91bb47454fb61ce23fc41c8359": {
          "model_module": "@jupyter-widgets/controls",
          "model_name": "HBoxModel",
          "model_module_version": "1.5.0",
          "state": {
            "_view_name": "HBoxView",
            "_dom_classes": [],
            "_model_name": "HBoxModel",
            "_view_module": "@jupyter-widgets/controls",
            "_model_module_version": "1.5.0",
            "_view_count": null,
            "_view_module_version": "1.5.0",
            "box_style": "",
            "layout": "IPY_MODEL_9b69534bda6e431c99d62e5db89f0806",
            "_model_module": "@jupyter-widgets/controls",
            "children": [
              "IPY_MODEL_1d06481872a0403f8770943afebc62c6",
              "IPY_MODEL_7d74c0876cb2409eb255b2a2653be21e",
              "IPY_MODEL_0c1c3592a067415b81a6537bbcd7bcd0"
            ]
          }
        },
        "9b69534bda6e431c99d62e5db89f0806": {
          "model_module": "@jupyter-widgets/base",
          "model_name": "LayoutModel",
          "model_module_version": "1.2.0",
          "state": {
            "_view_name": "LayoutView",
            "grid_template_rows": null,
            "right": null,
            "justify_content": null,
            "_view_module": "@jupyter-widgets/base",
            "overflow": null,
            "_model_module_version": "1.2.0",
            "_view_count": null,
            "flex_flow": null,
            "width": null,
            "min_width": null,
            "border": null,
            "align_items": null,
            "bottom": null,
            "_model_module": "@jupyter-widgets/base",
            "top": null,
            "grid_column": null,
            "overflow_y": null,
            "overflow_x": null,
            "grid_auto_flow": null,
            "grid_area": null,
            "grid_template_columns": null,
            "flex": null,
            "_model_name": "LayoutModel",
            "justify_items": null,
            "grid_row": null,
            "max_height": null,
            "align_content": null,
            "visibility": null,
            "align_self": null,
            "height": null,
            "min_height": null,
            "padding": null,
            "grid_auto_rows": null,
            "grid_gap": null,
            "max_width": null,
            "order": null,
            "_view_module_version": "1.2.0",
            "grid_template_areas": null,
            "object_position": null,
            "object_fit": null,
            "grid_auto_columns": null,
            "margin": null,
            "display": null,
            "left": null
          }
        },
        "1d06481872a0403f8770943afebc62c6": {
          "model_module": "@jupyter-widgets/controls",
          "model_name": "HTMLModel",
          "model_module_version": "1.5.0",
          "state": {
            "_view_name": "HTMLView",
            "style": "IPY_MODEL_84971cb953554316bc58e81714373b62",
            "_dom_classes": [],
            "description": "",
            "_model_name": "HTMLModel",
            "placeholder": "​",
            "_view_module": "@jupyter-widgets/controls",
            "_model_module_version": "1.5.0",
            "value": "100%",
            "_view_count": null,
            "_view_module_version": "1.5.0",
            "description_tooltip": null,
            "_model_module": "@jupyter-widgets/controls",
            "layout": "IPY_MODEL_4efc8e4176e344d29a80f9965c2a65b0"
          }
        },
        "7d74c0876cb2409eb255b2a2653be21e": {
          "model_module": "@jupyter-widgets/controls",
          "model_name": "FloatProgressModel",
          "model_module_version": "1.5.0",
          "state": {
            "_view_name": "ProgressView",
            "style": "IPY_MODEL_bb707c9bebe94aac8cc27e50bd22b965",
            "_dom_classes": [],
            "description": "",
            "_model_name": "FloatProgressModel",
            "bar_style": "success",
            "max": 1000000,
            "_view_module": "@jupyter-widgets/controls",
            "_model_module_version": "1.5.0",
            "value": 1000000,
            "_view_count": null,
            "_view_module_version": "1.5.0",
            "orientation": "horizontal",
            "min": 0,
            "description_tooltip": null,
            "_model_module": "@jupyter-widgets/controls",
            "layout": "IPY_MODEL_38a9d4230221461fa7f7705c73dc180f"
          }
        },
        "0c1c3592a067415b81a6537bbcd7bcd0": {
          "model_module": "@jupyter-widgets/controls",
          "model_name": "HTMLModel",
          "model_module_version": "1.5.0",
          "state": {
            "_view_name": "HTMLView",
            "style": "IPY_MODEL_ffa2fa667d704f19a20d79658130944e",
            "_dom_classes": [],
            "description": "",
            "_model_name": "HTMLModel",
            "placeholder": "​",
            "_view_module": "@jupyter-widgets/controls",
            "_model_module_version": "1.5.0",
            "value": " 1000000/1000000 [02:04&lt;00:00, 8662.11it/s]",
            "_view_count": null,
            "_view_module_version": "1.5.0",
            "description_tooltip": null,
            "_model_module": "@jupyter-widgets/controls",
            "layout": "IPY_MODEL_b78894a842784c13997fe7d13b30e58d"
          }
        },
        "84971cb953554316bc58e81714373b62": {
          "model_module": "@jupyter-widgets/controls",
          "model_name": "DescriptionStyleModel",
          "model_module_version": "1.5.0",
          "state": {
            "_view_name": "StyleView",
            "_model_name": "DescriptionStyleModel",
            "description_width": "",
            "_view_module": "@jupyter-widgets/base",
            "_model_module_version": "1.5.0",
            "_view_count": null,
            "_view_module_version": "1.2.0",
            "_model_module": "@jupyter-widgets/controls"
          }
        },
        "4efc8e4176e344d29a80f9965c2a65b0": {
          "model_module": "@jupyter-widgets/base",
          "model_name": "LayoutModel",
          "model_module_version": "1.2.0",
          "state": {
            "_view_name": "LayoutView",
            "grid_template_rows": null,
            "right": null,
            "justify_content": null,
            "_view_module": "@jupyter-widgets/base",
            "overflow": null,
            "_model_module_version": "1.2.0",
            "_view_count": null,
            "flex_flow": null,
            "width": null,
            "min_width": null,
            "border": null,
            "align_items": null,
            "bottom": null,
            "_model_module": "@jupyter-widgets/base",
            "top": null,
            "grid_column": null,
            "overflow_y": null,
            "overflow_x": null,
            "grid_auto_flow": null,
            "grid_area": null,
            "grid_template_columns": null,
            "flex": null,
            "_model_name": "LayoutModel",
            "justify_items": null,
            "grid_row": null,
            "max_height": null,
            "align_content": null,
            "visibility": null,
            "align_self": null,
            "height": null,
            "min_height": null,
            "padding": null,
            "grid_auto_rows": null,
            "grid_gap": null,
            "max_width": null,
            "order": null,
            "_view_module_version": "1.2.0",
            "grid_template_areas": null,
            "object_position": null,
            "object_fit": null,
            "grid_auto_columns": null,
            "margin": null,
            "display": null,
            "left": null
          }
        },
        "bb707c9bebe94aac8cc27e50bd22b965": {
          "model_module": "@jupyter-widgets/controls",
          "model_name": "ProgressStyleModel",
          "model_module_version": "1.5.0",
          "state": {
            "_view_name": "StyleView",
            "_model_name": "ProgressStyleModel",
            "description_width": "",
            "_view_module": "@jupyter-widgets/base",
            "_model_module_version": "1.5.0",
            "_view_count": null,
            "_view_module_version": "1.2.0",
            "bar_color": null,
            "_model_module": "@jupyter-widgets/controls"
          }
        },
        "38a9d4230221461fa7f7705c73dc180f": {
          "model_module": "@jupyter-widgets/base",
          "model_name": "LayoutModel",
          "model_module_version": "1.2.0",
          "state": {
            "_view_name": "LayoutView",
            "grid_template_rows": null,
            "right": null,
            "justify_content": null,
            "_view_module": "@jupyter-widgets/base",
            "overflow": null,
            "_model_module_version": "1.2.0",
            "_view_count": null,
            "flex_flow": null,
            "width": null,
            "min_width": null,
            "border": null,
            "align_items": null,
            "bottom": null,
            "_model_module": "@jupyter-widgets/base",
            "top": null,
            "grid_column": null,
            "overflow_y": null,
            "overflow_x": null,
            "grid_auto_flow": null,
            "grid_area": null,
            "grid_template_columns": null,
            "flex": null,
            "_model_name": "LayoutModel",
            "justify_items": null,
            "grid_row": null,
            "max_height": null,
            "align_content": null,
            "visibility": null,
            "align_self": null,
            "height": null,
            "min_height": null,
            "padding": null,
            "grid_auto_rows": null,
            "grid_gap": null,
            "max_width": null,
            "order": null,
            "_view_module_version": "1.2.0",
            "grid_template_areas": null,
            "object_position": null,
            "object_fit": null,
            "grid_auto_columns": null,
            "margin": null,
            "display": null,
            "left": null
          }
        },
        "ffa2fa667d704f19a20d79658130944e": {
          "model_module": "@jupyter-widgets/controls",
          "model_name": "DescriptionStyleModel",
          "model_module_version": "1.5.0",
          "state": {
            "_view_name": "StyleView",
            "_model_name": "DescriptionStyleModel",
            "description_width": "",
            "_view_module": "@jupyter-widgets/base",
            "_model_module_version": "1.5.0",
            "_view_count": null,
            "_view_module_version": "1.2.0",
            "_model_module": "@jupyter-widgets/controls"
          }
        },
        "b78894a842784c13997fe7d13b30e58d": {
          "model_module": "@jupyter-widgets/base",
          "model_name": "LayoutModel",
          "model_module_version": "1.2.0",
          "state": {
            "_view_name": "LayoutView",
            "grid_template_rows": null,
            "right": null,
            "justify_content": null,
            "_view_module": "@jupyter-widgets/base",
            "overflow": null,
            "_model_module_version": "1.2.0",
            "_view_count": null,
            "flex_flow": null,
            "width": null,
            "min_width": null,
            "border": null,
            "align_items": null,
            "bottom": null,
            "_model_module": "@jupyter-widgets/base",
            "top": null,
            "grid_column": null,
            "overflow_y": null,
            "overflow_x": null,
            "grid_auto_flow": null,
            "grid_area": null,
            "grid_template_columns": null,
            "flex": null,
            "_model_name": "LayoutModel",
            "justify_items": null,
            "grid_row": null,
            "max_height": null,
            "align_content": null,
            "visibility": null,
            "align_self": null,
            "height": null,
            "min_height": null,
            "padding": null,
            "grid_auto_rows": null,
            "grid_gap": null,
            "max_width": null,
            "order": null,
            "_view_module_version": "1.2.0",
            "grid_template_areas": null,
            "object_position": null,
            "object_fit": null,
            "grid_auto_columns": null,
            "margin": null,
            "display": null,
            "left": null
          }
        },
        "e7cb6c821f5b4d85b100f1bf635101b7": {
          "model_module": "@jupyter-widgets/controls",
          "model_name": "HBoxModel",
          "model_module_version": "1.5.0",
          "state": {
            "_view_name": "HBoxView",
            "_dom_classes": [],
            "_model_name": "HBoxModel",
            "_view_module": "@jupyter-widgets/controls",
            "_model_module_version": "1.5.0",
            "_view_count": null,
            "_view_module_version": "1.5.0",
            "box_style": "",
            "layout": "IPY_MODEL_1e786a503c7f409bbc0d71d2ede28ec1",
            "_model_module": "@jupyter-widgets/controls",
            "children": [
              "IPY_MODEL_5ca5fa6f7795486ea38331b01b551291",
              "IPY_MODEL_53c3737dbf19437fb366e64a7cfeb4c5",
              "IPY_MODEL_75290ecb498643cc9154630b8febe5c1"
            ]
          }
        },
        "1e786a503c7f409bbc0d71d2ede28ec1": {
          "model_module": "@jupyter-widgets/base",
          "model_name": "LayoutModel",
          "model_module_version": "1.2.0",
          "state": {
            "_view_name": "LayoutView",
            "grid_template_rows": null,
            "right": null,
            "justify_content": null,
            "_view_module": "@jupyter-widgets/base",
            "overflow": null,
            "_model_module_version": "1.2.0",
            "_view_count": null,
            "flex_flow": null,
            "width": null,
            "min_width": null,
            "border": null,
            "align_items": null,
            "bottom": null,
            "_model_module": "@jupyter-widgets/base",
            "top": null,
            "grid_column": null,
            "overflow_y": null,
            "overflow_x": null,
            "grid_auto_flow": null,
            "grid_area": null,
            "grid_template_columns": null,
            "flex": null,
            "_model_name": "LayoutModel",
            "justify_items": null,
            "grid_row": null,
            "max_height": null,
            "align_content": null,
            "visibility": null,
            "align_self": null,
            "height": null,
            "min_height": null,
            "padding": null,
            "grid_auto_rows": null,
            "grid_gap": null,
            "max_width": null,
            "order": null,
            "_view_module_version": "1.2.0",
            "grid_template_areas": null,
            "object_position": null,
            "object_fit": null,
            "grid_auto_columns": null,
            "margin": null,
            "display": null,
            "left": null
          }
        },
        "5ca5fa6f7795486ea38331b01b551291": {
          "model_module": "@jupyter-widgets/controls",
          "model_name": "HTMLModel",
          "model_module_version": "1.5.0",
          "state": {
            "_view_name": "HTMLView",
            "style": "IPY_MODEL_f21f738c722e4ff4a48917392a25846b",
            "_dom_classes": [],
            "description": "",
            "_model_name": "HTMLModel",
            "placeholder": "​",
            "_view_module": "@jupyter-widgets/controls",
            "_model_module_version": "1.5.0",
            "value": "100%",
            "_view_count": null,
            "_view_module_version": "1.5.0",
            "description_tooltip": null,
            "_model_module": "@jupyter-widgets/controls",
            "layout": "IPY_MODEL_15d090e74ae24b9dad0c20cb812846d8"
          }
        },
        "53c3737dbf19437fb366e64a7cfeb4c5": {
          "model_module": "@jupyter-widgets/controls",
          "model_name": "FloatProgressModel",
          "model_module_version": "1.5.0",
          "state": {
            "_view_name": "ProgressView",
            "style": "IPY_MODEL_a3886ca35bf1457ebc3151c7ea6f94b6",
            "_dom_classes": [],
            "description": "",
            "_model_name": "FloatProgressModel",
            "bar_style": "success",
            "max": 100000,
            "_view_module": "@jupyter-widgets/controls",
            "_model_module_version": "1.5.0",
            "value": 100000,
            "_view_count": null,
            "_view_module_version": "1.5.0",
            "orientation": "horizontal",
            "min": 0,
            "description_tooltip": null,
            "_model_module": "@jupyter-widgets/controls",
            "layout": "IPY_MODEL_15b7e08f860c460fbcf9ecdfc6bb6bf6"
          }
        },
        "75290ecb498643cc9154630b8febe5c1": {
          "model_module": "@jupyter-widgets/controls",
          "model_name": "HTMLModel",
          "model_module_version": "1.5.0",
          "state": {
            "_view_name": "HTMLView",
            "style": "IPY_MODEL_75b2c6759fbc4c69bf9ffea9c5ad93ef",
            "_dom_classes": [],
            "description": "",
            "_model_name": "HTMLModel",
            "placeholder": "​",
            "_view_module": "@jupyter-widgets/controls",
            "_model_module_version": "1.5.0",
            "value": " 100000/100000 [00:09&lt;00:00, 9148.48it/s]",
            "_view_count": null,
            "_view_module_version": "1.5.0",
            "description_tooltip": null,
            "_model_module": "@jupyter-widgets/controls",
            "layout": "IPY_MODEL_306a19a45df44ef3a93e5a637c721863"
          }
        },
        "f21f738c722e4ff4a48917392a25846b": {
          "model_module": "@jupyter-widgets/controls",
          "model_name": "DescriptionStyleModel",
          "model_module_version": "1.5.0",
          "state": {
            "_view_name": "StyleView",
            "_model_name": "DescriptionStyleModel",
            "description_width": "",
            "_view_module": "@jupyter-widgets/base",
            "_model_module_version": "1.5.0",
            "_view_count": null,
            "_view_module_version": "1.2.0",
            "_model_module": "@jupyter-widgets/controls"
          }
        },
        "15d090e74ae24b9dad0c20cb812846d8": {
          "model_module": "@jupyter-widgets/base",
          "model_name": "LayoutModel",
          "model_module_version": "1.2.0",
          "state": {
            "_view_name": "LayoutView",
            "grid_template_rows": null,
            "right": null,
            "justify_content": null,
            "_view_module": "@jupyter-widgets/base",
            "overflow": null,
            "_model_module_version": "1.2.0",
            "_view_count": null,
            "flex_flow": null,
            "width": null,
            "min_width": null,
            "border": null,
            "align_items": null,
            "bottom": null,
            "_model_module": "@jupyter-widgets/base",
            "top": null,
            "grid_column": null,
            "overflow_y": null,
            "overflow_x": null,
            "grid_auto_flow": null,
            "grid_area": null,
            "grid_template_columns": null,
            "flex": null,
            "_model_name": "LayoutModel",
            "justify_items": null,
            "grid_row": null,
            "max_height": null,
            "align_content": null,
            "visibility": null,
            "align_self": null,
            "height": null,
            "min_height": null,
            "padding": null,
            "grid_auto_rows": null,
            "grid_gap": null,
            "max_width": null,
            "order": null,
            "_view_module_version": "1.2.0",
            "grid_template_areas": null,
            "object_position": null,
            "object_fit": null,
            "grid_auto_columns": null,
            "margin": null,
            "display": null,
            "left": null
          }
        },
        "a3886ca35bf1457ebc3151c7ea6f94b6": {
          "model_module": "@jupyter-widgets/controls",
          "model_name": "ProgressStyleModel",
          "model_module_version": "1.5.0",
          "state": {
            "_view_name": "StyleView",
            "_model_name": "ProgressStyleModel",
            "description_width": "",
            "_view_module": "@jupyter-widgets/base",
            "_model_module_version": "1.5.0",
            "_view_count": null,
            "_view_module_version": "1.2.0",
            "bar_color": null,
            "_model_module": "@jupyter-widgets/controls"
          }
        },
        "15b7e08f860c460fbcf9ecdfc6bb6bf6": {
          "model_module": "@jupyter-widgets/base",
          "model_name": "LayoutModel",
          "model_module_version": "1.2.0",
          "state": {
            "_view_name": "LayoutView",
            "grid_template_rows": null,
            "right": null,
            "justify_content": null,
            "_view_module": "@jupyter-widgets/base",
            "overflow": null,
            "_model_module_version": "1.2.0",
            "_view_count": null,
            "flex_flow": null,
            "width": null,
            "min_width": null,
            "border": null,
            "align_items": null,
            "bottom": null,
            "_model_module": "@jupyter-widgets/base",
            "top": null,
            "grid_column": null,
            "overflow_y": null,
            "overflow_x": null,
            "grid_auto_flow": null,
            "grid_area": null,
            "grid_template_columns": null,
            "flex": null,
            "_model_name": "LayoutModel",
            "justify_items": null,
            "grid_row": null,
            "max_height": null,
            "align_content": null,
            "visibility": null,
            "align_self": null,
            "height": null,
            "min_height": null,
            "padding": null,
            "grid_auto_rows": null,
            "grid_gap": null,
            "max_width": null,
            "order": null,
            "_view_module_version": "1.2.0",
            "grid_template_areas": null,
            "object_position": null,
            "object_fit": null,
            "grid_auto_columns": null,
            "margin": null,
            "display": null,
            "left": null
          }
        },
        "75b2c6759fbc4c69bf9ffea9c5ad93ef": {
          "model_module": "@jupyter-widgets/controls",
          "model_name": "DescriptionStyleModel",
          "model_module_version": "1.5.0",
          "state": {
            "_view_name": "StyleView",
            "_model_name": "DescriptionStyleModel",
            "description_width": "",
            "_view_module": "@jupyter-widgets/base",
            "_model_module_version": "1.5.0",
            "_view_count": null,
            "_view_module_version": "1.2.0",
            "_model_module": "@jupyter-widgets/controls"
          }
        },
        "306a19a45df44ef3a93e5a637c721863": {
          "model_module": "@jupyter-widgets/base",
          "model_name": "LayoutModel",
          "model_module_version": "1.2.0",
          "state": {
            "_view_name": "LayoutView",
            "grid_template_rows": null,
            "right": null,
            "justify_content": null,
            "_view_module": "@jupyter-widgets/base",
            "overflow": null,
            "_model_module_version": "1.2.0",
            "_view_count": null,
            "flex_flow": null,
            "width": null,
            "min_width": null,
            "border": null,
            "align_items": null,
            "bottom": null,
            "_model_module": "@jupyter-widgets/base",
            "top": null,
            "grid_column": null,
            "overflow_y": null,
            "overflow_x": null,
            "grid_auto_flow": null,
            "grid_area": null,
            "grid_template_columns": null,
            "flex": null,
            "_model_name": "LayoutModel",
            "justify_items": null,
            "grid_row": null,
            "max_height": null,
            "align_content": null,
            "visibility": null,
            "align_self": null,
            "height": null,
            "min_height": null,
            "padding": null,
            "grid_auto_rows": null,
            "grid_gap": null,
            "max_width": null,
            "order": null,
            "_view_module_version": "1.2.0",
            "grid_template_areas": null,
            "object_position": null,
            "object_fit": null,
            "grid_auto_columns": null,
            "margin": null,
            "display": null,
            "left": null
          }
        },
        "7160cdd8765f47ed86c1cb1bd05bcba4": {
          "model_module": "@jupyter-widgets/controls",
          "model_name": "HBoxModel",
          "model_module_version": "1.5.0",
          "state": {
            "_view_name": "HBoxView",
            "_dom_classes": [],
            "_model_name": "HBoxModel",
            "_view_module": "@jupyter-widgets/controls",
            "_model_module_version": "1.5.0",
            "_view_count": null,
            "_view_module_version": "1.5.0",
            "box_style": "",
            "layout": "IPY_MODEL_1b5d6a097db3495a983f22622f3ef46f",
            "_model_module": "@jupyter-widgets/controls",
            "children": [
              "IPY_MODEL_90c08fbec2e447afa7fab83006978b60",
              "IPY_MODEL_5e0b89af39c14a9aa54bc35d550862cc",
              "IPY_MODEL_cbc342a3b8ca416f8bba6f6dbc906f66"
            ]
          }
        },
        "1b5d6a097db3495a983f22622f3ef46f": {
          "model_module": "@jupyter-widgets/base",
          "model_name": "LayoutModel",
          "model_module_version": "1.2.0",
          "state": {
            "_view_name": "LayoutView",
            "grid_template_rows": null,
            "right": null,
            "justify_content": null,
            "_view_module": "@jupyter-widgets/base",
            "overflow": null,
            "_model_module_version": "1.2.0",
            "_view_count": null,
            "flex_flow": null,
            "width": null,
            "min_width": null,
            "border": null,
            "align_items": null,
            "bottom": null,
            "_model_module": "@jupyter-widgets/base",
            "top": null,
            "grid_column": null,
            "overflow_y": null,
            "overflow_x": null,
            "grid_auto_flow": null,
            "grid_area": null,
            "grid_template_columns": null,
            "flex": null,
            "_model_name": "LayoutModel",
            "justify_items": null,
            "grid_row": null,
            "max_height": null,
            "align_content": null,
            "visibility": null,
            "align_self": null,
            "height": null,
            "min_height": null,
            "padding": null,
            "grid_auto_rows": null,
            "grid_gap": null,
            "max_width": null,
            "order": null,
            "_view_module_version": "1.2.0",
            "grid_template_areas": null,
            "object_position": null,
            "object_fit": null,
            "grid_auto_columns": null,
            "margin": null,
            "display": null,
            "left": null
          }
        },
        "90c08fbec2e447afa7fab83006978b60": {
          "model_module": "@jupyter-widgets/controls",
          "model_name": "HTMLModel",
          "model_module_version": "1.5.0",
          "state": {
            "_view_name": "HTMLView",
            "style": "IPY_MODEL_9435823b5ba441ec8b545e373568549f",
            "_dom_classes": [],
            "description": "",
            "_model_name": "HTMLModel",
            "placeholder": "​",
            "_view_module": "@jupyter-widgets/controls",
            "_model_module_version": "1.5.0",
            "value": "100%",
            "_view_count": null,
            "_view_module_version": "1.5.0",
            "description_tooltip": null,
            "_model_module": "@jupyter-widgets/controls",
            "layout": "IPY_MODEL_0e6f37b8ce2e4e6b819637a23a043fdd"
          }
        },
        "5e0b89af39c14a9aa54bc35d550862cc": {
          "model_module": "@jupyter-widgets/controls",
          "model_name": "FloatProgressModel",
          "model_module_version": "1.5.0",
          "state": {
            "_view_name": "ProgressView",
            "style": "IPY_MODEL_667de5cbf3cf487087390dee5155095d",
            "_dom_classes": [],
            "description": "",
            "_model_name": "FloatProgressModel",
            "bar_style": "success",
            "max": 15,
            "_view_module": "@jupyter-widgets/controls",
            "_model_module_version": "1.5.0",
            "value": 15,
            "_view_count": null,
            "_view_module_version": "1.5.0",
            "orientation": "horizontal",
            "min": 0,
            "description_tooltip": null,
            "_model_module": "@jupyter-widgets/controls",
            "layout": "IPY_MODEL_42f1a5d294af41c69ff4e95506f1bc27"
          }
        },
        "cbc342a3b8ca416f8bba6f6dbc906f66": {
          "model_module": "@jupyter-widgets/controls",
          "model_name": "HTMLModel",
          "model_module_version": "1.5.0",
          "state": {
            "_view_name": "HTMLView",
            "style": "IPY_MODEL_7a5b6829f798482da938ff29b239a76d",
            "_dom_classes": [],
            "description": "",
            "_model_name": "HTMLModel",
            "placeholder": "​",
            "_view_module": "@jupyter-widgets/controls",
            "_model_module_version": "1.5.0",
            "value": " 15/15 [37:33&lt;00:00, 150.09s/it]",
            "_view_count": null,
            "_view_module_version": "1.5.0",
            "description_tooltip": null,
            "_model_module": "@jupyter-widgets/controls",
            "layout": "IPY_MODEL_e134e95e90be41c1b17b85997c01591b"
          }
        },
        "9435823b5ba441ec8b545e373568549f": {
          "model_module": "@jupyter-widgets/controls",
          "model_name": "DescriptionStyleModel",
          "model_module_version": "1.5.0",
          "state": {
            "_view_name": "StyleView",
            "_model_name": "DescriptionStyleModel",
            "description_width": "",
            "_view_module": "@jupyter-widgets/base",
            "_model_module_version": "1.5.0",
            "_view_count": null,
            "_view_module_version": "1.2.0",
            "_model_module": "@jupyter-widgets/controls"
          }
        },
        "0e6f37b8ce2e4e6b819637a23a043fdd": {
          "model_module": "@jupyter-widgets/base",
          "model_name": "LayoutModel",
          "model_module_version": "1.2.0",
          "state": {
            "_view_name": "LayoutView",
            "grid_template_rows": null,
            "right": null,
            "justify_content": null,
            "_view_module": "@jupyter-widgets/base",
            "overflow": null,
            "_model_module_version": "1.2.0",
            "_view_count": null,
            "flex_flow": null,
            "width": null,
            "min_width": null,
            "border": null,
            "align_items": null,
            "bottom": null,
            "_model_module": "@jupyter-widgets/base",
            "top": null,
            "grid_column": null,
            "overflow_y": null,
            "overflow_x": null,
            "grid_auto_flow": null,
            "grid_area": null,
            "grid_template_columns": null,
            "flex": null,
            "_model_name": "LayoutModel",
            "justify_items": null,
            "grid_row": null,
            "max_height": null,
            "align_content": null,
            "visibility": null,
            "align_self": null,
            "height": null,
            "min_height": null,
            "padding": null,
            "grid_auto_rows": null,
            "grid_gap": null,
            "max_width": null,
            "order": null,
            "_view_module_version": "1.2.0",
            "grid_template_areas": null,
            "object_position": null,
            "object_fit": null,
            "grid_auto_columns": null,
            "margin": null,
            "display": null,
            "left": null
          }
        },
        "667de5cbf3cf487087390dee5155095d": {
          "model_module": "@jupyter-widgets/controls",
          "model_name": "ProgressStyleModel",
          "model_module_version": "1.5.0",
          "state": {
            "_view_name": "StyleView",
            "_model_name": "ProgressStyleModel",
            "description_width": "",
            "_view_module": "@jupyter-widgets/base",
            "_model_module_version": "1.5.0",
            "_view_count": null,
            "_view_module_version": "1.2.0",
            "bar_color": null,
            "_model_module": "@jupyter-widgets/controls"
          }
        },
        "42f1a5d294af41c69ff4e95506f1bc27": {
          "model_module": "@jupyter-widgets/base",
          "model_name": "LayoutModel",
          "model_module_version": "1.2.0",
          "state": {
            "_view_name": "LayoutView",
            "grid_template_rows": null,
            "right": null,
            "justify_content": null,
            "_view_module": "@jupyter-widgets/base",
            "overflow": null,
            "_model_module_version": "1.2.0",
            "_view_count": null,
            "flex_flow": null,
            "width": null,
            "min_width": null,
            "border": null,
            "align_items": null,
            "bottom": null,
            "_model_module": "@jupyter-widgets/base",
            "top": null,
            "grid_column": null,
            "overflow_y": null,
            "overflow_x": null,
            "grid_auto_flow": null,
            "grid_area": null,
            "grid_template_columns": null,
            "flex": null,
            "_model_name": "LayoutModel",
            "justify_items": null,
            "grid_row": null,
            "max_height": null,
            "align_content": null,
            "visibility": null,
            "align_self": null,
            "height": null,
            "min_height": null,
            "padding": null,
            "grid_auto_rows": null,
            "grid_gap": null,
            "max_width": null,
            "order": null,
            "_view_module_version": "1.2.0",
            "grid_template_areas": null,
            "object_position": null,
            "object_fit": null,
            "grid_auto_columns": null,
            "margin": null,
            "display": null,
            "left": null
          }
        },
        "7a5b6829f798482da938ff29b239a76d": {
          "model_module": "@jupyter-widgets/controls",
          "model_name": "DescriptionStyleModel",
          "model_module_version": "1.5.0",
          "state": {
            "_view_name": "StyleView",
            "_model_name": "DescriptionStyleModel",
            "description_width": "",
            "_view_module": "@jupyter-widgets/base",
            "_model_module_version": "1.5.0",
            "_view_count": null,
            "_view_module_version": "1.2.0",
            "_model_module": "@jupyter-widgets/controls"
          }
        },
        "e134e95e90be41c1b17b85997c01591b": {
          "model_module": "@jupyter-widgets/base",
          "model_name": "LayoutModel",
          "model_module_version": "1.2.0",
          "state": {
            "_view_name": "LayoutView",
            "grid_template_rows": null,
            "right": null,
            "justify_content": null,
            "_view_module": "@jupyter-widgets/base",
            "overflow": null,
            "_model_module_version": "1.2.0",
            "_view_count": null,
            "flex_flow": null,
            "width": null,
            "min_width": null,
            "border": null,
            "align_items": null,
            "bottom": null,
            "_model_module": "@jupyter-widgets/base",
            "top": null,
            "grid_column": null,
            "overflow_y": null,
            "overflow_x": null,
            "grid_auto_flow": null,
            "grid_area": null,
            "grid_template_columns": null,
            "flex": null,
            "_model_name": "LayoutModel",
            "justify_items": null,
            "grid_row": null,
            "max_height": null,
            "align_content": null,
            "visibility": null,
            "align_self": null,
            "height": null,
            "min_height": null,
            "padding": null,
            "grid_auto_rows": null,
            "grid_gap": null,
            "max_width": null,
            "order": null,
            "_view_module_version": "1.2.0",
            "grid_template_areas": null,
            "object_position": null,
            "object_fit": null,
            "grid_auto_columns": null,
            "margin": null,
            "display": null,
            "left": null
          }
        },
        "9e6c677cdefd41a0b10f9bd44e1e1e5f": {
          "model_module": "@jupyter-widgets/controls",
          "model_name": "HBoxModel",
          "model_module_version": "1.5.0",
          "state": {
            "_view_name": "HBoxView",
            "_dom_classes": [],
            "_model_name": "HBoxModel",
            "_view_module": "@jupyter-widgets/controls",
            "_model_module_version": "1.5.0",
            "_view_count": null,
            "_view_module_version": "1.5.0",
            "box_style": "",
            "layout": "IPY_MODEL_92d2a10b5f394ac2adea3b5e3099f815",
            "_model_module": "@jupyter-widgets/controls",
            "children": [
              "IPY_MODEL_d09a5898bf154ca68c7b162d939f7897",
              "IPY_MODEL_dfa711a04cec4bfbae59c355d358524a",
              "IPY_MODEL_ede010f1ed0b488eb70b53c1b67d70be"
            ]
          }
        },
        "92d2a10b5f394ac2adea3b5e3099f815": {
          "model_module": "@jupyter-widgets/base",
          "model_name": "LayoutModel",
          "model_module_version": "1.2.0",
          "state": {
            "_view_name": "LayoutView",
            "grid_template_rows": null,
            "right": null,
            "justify_content": null,
            "_view_module": "@jupyter-widgets/base",
            "overflow": null,
            "_model_module_version": "1.2.0",
            "_view_count": null,
            "flex_flow": null,
            "width": null,
            "min_width": null,
            "border": null,
            "align_items": null,
            "bottom": null,
            "_model_module": "@jupyter-widgets/base",
            "top": null,
            "grid_column": null,
            "overflow_y": null,
            "overflow_x": null,
            "grid_auto_flow": null,
            "grid_area": null,
            "grid_template_columns": null,
            "flex": null,
            "_model_name": "LayoutModel",
            "justify_items": null,
            "grid_row": null,
            "max_height": null,
            "align_content": null,
            "visibility": null,
            "align_self": null,
            "height": null,
            "min_height": null,
            "padding": null,
            "grid_auto_rows": null,
            "grid_gap": null,
            "max_width": null,
            "order": null,
            "_view_module_version": "1.2.0",
            "grid_template_areas": null,
            "object_position": null,
            "object_fit": null,
            "grid_auto_columns": null,
            "margin": null,
            "display": null,
            "left": null
          }
        },
        "d09a5898bf154ca68c7b162d939f7897": {
          "model_module": "@jupyter-widgets/controls",
          "model_name": "HTMLModel",
          "model_module_version": "1.5.0",
          "state": {
            "_view_name": "HTMLView",
            "style": "IPY_MODEL_6e93ced078b94a16910442b1c36bff92",
            "_dom_classes": [],
            "description": "",
            "_model_name": "HTMLModel",
            "placeholder": "​",
            "_view_module": "@jupyter-widgets/controls",
            "_model_module_version": "1.5.0",
            "value": "100%",
            "_view_count": null,
            "_view_module_version": "1.5.0",
            "description_tooltip": null,
            "_model_module": "@jupyter-widgets/controls",
            "layout": "IPY_MODEL_de5f3d6ec3d9432099bd9cfee030559c"
          }
        },
        "dfa711a04cec4bfbae59c355d358524a": {
          "model_module": "@jupyter-widgets/controls",
          "model_name": "FloatProgressModel",
          "model_module_version": "1.5.0",
          "state": {
            "_view_name": "ProgressView",
            "style": "IPY_MODEL_522e04006b7b4e85ae84d2634163ed86",
            "_dom_classes": [],
            "description": "",
            "_model_name": "FloatProgressModel",
            "bar_style": "success",
            "max": 100,
            "_view_module": "@jupyter-widgets/controls",
            "_model_module_version": "1.5.0",
            "value": 100,
            "_view_count": null,
            "_view_module_version": "1.5.0",
            "orientation": "horizontal",
            "min": 0,
            "description_tooltip": null,
            "_model_module": "@jupyter-widgets/controls",
            "layout": "IPY_MODEL_4743a3aea35542498ea6eedd58cbb749"
          }
        },
        "ede010f1ed0b488eb70b53c1b67d70be": {
          "model_module": "@jupyter-widgets/controls",
          "model_name": "HTMLModel",
          "model_module_version": "1.5.0",
          "state": {
            "_view_name": "HTMLView",
            "style": "IPY_MODEL_8cfe8d1caa1d4c50ad69d8015e728745",
            "_dom_classes": [],
            "description": "",
            "_model_name": "HTMLModel",
            "placeholder": "​",
            "_view_module": "@jupyter-widgets/controls",
            "_model_module_version": "1.5.0",
            "value": " 100/100 [15:11&lt;00:00,  9.22s/it]",
            "_view_count": null,
            "_view_module_version": "1.5.0",
            "description_tooltip": null,
            "_model_module": "@jupyter-widgets/controls",
            "layout": "IPY_MODEL_5d7684620da84e3cb3e0590ac4cff4a9"
          }
        },
        "6e93ced078b94a16910442b1c36bff92": {
          "model_module": "@jupyter-widgets/controls",
          "model_name": "DescriptionStyleModel",
          "model_module_version": "1.5.0",
          "state": {
            "_view_name": "StyleView",
            "_model_name": "DescriptionStyleModel",
            "description_width": "",
            "_view_module": "@jupyter-widgets/base",
            "_model_module_version": "1.5.0",
            "_view_count": null,
            "_view_module_version": "1.2.0",
            "_model_module": "@jupyter-widgets/controls"
          }
        },
        "de5f3d6ec3d9432099bd9cfee030559c": {
          "model_module": "@jupyter-widgets/base",
          "model_name": "LayoutModel",
          "model_module_version": "1.2.0",
          "state": {
            "_view_name": "LayoutView",
            "grid_template_rows": null,
            "right": null,
            "justify_content": null,
            "_view_module": "@jupyter-widgets/base",
            "overflow": null,
            "_model_module_version": "1.2.0",
            "_view_count": null,
            "flex_flow": null,
            "width": null,
            "min_width": null,
            "border": null,
            "align_items": null,
            "bottom": null,
            "_model_module": "@jupyter-widgets/base",
            "top": null,
            "grid_column": null,
            "overflow_y": null,
            "overflow_x": null,
            "grid_auto_flow": null,
            "grid_area": null,
            "grid_template_columns": null,
            "flex": null,
            "_model_name": "LayoutModel",
            "justify_items": null,
            "grid_row": null,
            "max_height": null,
            "align_content": null,
            "visibility": null,
            "align_self": null,
            "height": null,
            "min_height": null,
            "padding": null,
            "grid_auto_rows": null,
            "grid_gap": null,
            "max_width": null,
            "order": null,
            "_view_module_version": "1.2.0",
            "grid_template_areas": null,
            "object_position": null,
            "object_fit": null,
            "grid_auto_columns": null,
            "margin": null,
            "display": null,
            "left": null
          }
        },
        "522e04006b7b4e85ae84d2634163ed86": {
          "model_module": "@jupyter-widgets/controls",
          "model_name": "ProgressStyleModel",
          "model_module_version": "1.5.0",
          "state": {
            "_view_name": "StyleView",
            "_model_name": "ProgressStyleModel",
            "description_width": "",
            "_view_module": "@jupyter-widgets/base",
            "_model_module_version": "1.5.0",
            "_view_count": null,
            "_view_module_version": "1.2.0",
            "bar_color": null,
            "_model_module": "@jupyter-widgets/controls"
          }
        },
        "4743a3aea35542498ea6eedd58cbb749": {
          "model_module": "@jupyter-widgets/base",
          "model_name": "LayoutModel",
          "model_module_version": "1.2.0",
          "state": {
            "_view_name": "LayoutView",
            "grid_template_rows": null,
            "right": null,
            "justify_content": null,
            "_view_module": "@jupyter-widgets/base",
            "overflow": null,
            "_model_module_version": "1.2.0",
            "_view_count": null,
            "flex_flow": null,
            "width": null,
            "min_width": null,
            "border": null,
            "align_items": null,
            "bottom": null,
            "_model_module": "@jupyter-widgets/base",
            "top": null,
            "grid_column": null,
            "overflow_y": null,
            "overflow_x": null,
            "grid_auto_flow": null,
            "grid_area": null,
            "grid_template_columns": null,
            "flex": null,
            "_model_name": "LayoutModel",
            "justify_items": null,
            "grid_row": null,
            "max_height": null,
            "align_content": null,
            "visibility": null,
            "align_self": null,
            "height": null,
            "min_height": null,
            "padding": null,
            "grid_auto_rows": null,
            "grid_gap": null,
            "max_width": null,
            "order": null,
            "_view_module_version": "1.2.0",
            "grid_template_areas": null,
            "object_position": null,
            "object_fit": null,
            "grid_auto_columns": null,
            "margin": null,
            "display": null,
            "left": null
          }
        },
        "8cfe8d1caa1d4c50ad69d8015e728745": {
          "model_module": "@jupyter-widgets/controls",
          "model_name": "DescriptionStyleModel",
          "model_module_version": "1.5.0",
          "state": {
            "_view_name": "StyleView",
            "_model_name": "DescriptionStyleModel",
            "description_width": "",
            "_view_module": "@jupyter-widgets/base",
            "_model_module_version": "1.5.0",
            "_view_count": null,
            "_view_module_version": "1.2.0",
            "_model_module": "@jupyter-widgets/controls"
          }
        },
        "5d7684620da84e3cb3e0590ac4cff4a9": {
          "model_module": "@jupyter-widgets/base",
          "model_name": "LayoutModel",
          "model_module_version": "1.2.0",
          "state": {
            "_view_name": "LayoutView",
            "grid_template_rows": null,
            "right": null,
            "justify_content": null,
            "_view_module": "@jupyter-widgets/base",
            "overflow": null,
            "_model_module_version": "1.2.0",
            "_view_count": null,
            "flex_flow": null,
            "width": null,
            "min_width": null,
            "border": null,
            "align_items": null,
            "bottom": null,
            "_model_module": "@jupyter-widgets/base",
            "top": null,
            "grid_column": null,
            "overflow_y": null,
            "overflow_x": null,
            "grid_auto_flow": null,
            "grid_area": null,
            "grid_template_columns": null,
            "flex": null,
            "_model_name": "LayoutModel",
            "justify_items": null,
            "grid_row": null,
            "max_height": null,
            "align_content": null,
            "visibility": null,
            "align_self": null,
            "height": null,
            "min_height": null,
            "padding": null,
            "grid_auto_rows": null,
            "grid_gap": null,
            "max_width": null,
            "order": null,
            "_view_module_version": "1.2.0",
            "grid_template_areas": null,
            "object_position": null,
            "object_fit": null,
            "grid_auto_columns": null,
            "margin": null,
            "display": null,
            "left": null
          }
        },
        "4abd3b9a24c044a58ff0801f1f1df71a": {
          "model_module": "@jupyter-widgets/controls",
          "model_name": "HBoxModel",
          "model_module_version": "1.5.0",
          "state": {
            "_view_name": "HBoxView",
            "_dom_classes": [],
            "_model_name": "HBoxModel",
            "_view_module": "@jupyter-widgets/controls",
            "_model_module_version": "1.5.0",
            "_view_count": null,
            "_view_module_version": "1.5.0",
            "box_style": "",
            "layout": "IPY_MODEL_1bbb508447e047d3a018940e5de7221b",
            "_model_module": "@jupyter-widgets/controls",
            "children": [
              "IPY_MODEL_7a396aae1f9c4b8ab565978a63864a18",
              "IPY_MODEL_cda5d05de5a2424abaf1515123d077cb",
              "IPY_MODEL_cccf662a65584455ba740c45e22eb92e"
            ]
          }
        },
        "1bbb508447e047d3a018940e5de7221b": {
          "model_module": "@jupyter-widgets/base",
          "model_name": "LayoutModel",
          "model_module_version": "1.2.0",
          "state": {
            "_view_name": "LayoutView",
            "grid_template_rows": null,
            "right": null,
            "justify_content": null,
            "_view_module": "@jupyter-widgets/base",
            "overflow": null,
            "_model_module_version": "1.2.0",
            "_view_count": null,
            "flex_flow": null,
            "width": null,
            "min_width": null,
            "border": null,
            "align_items": null,
            "bottom": null,
            "_model_module": "@jupyter-widgets/base",
            "top": null,
            "grid_column": null,
            "overflow_y": null,
            "overflow_x": null,
            "grid_auto_flow": null,
            "grid_area": null,
            "grid_template_columns": null,
            "flex": null,
            "_model_name": "LayoutModel",
            "justify_items": null,
            "grid_row": null,
            "max_height": null,
            "align_content": null,
            "visibility": null,
            "align_self": null,
            "height": null,
            "min_height": null,
            "padding": null,
            "grid_auto_rows": null,
            "grid_gap": null,
            "max_width": null,
            "order": null,
            "_view_module_version": "1.2.0",
            "grid_template_areas": null,
            "object_position": null,
            "object_fit": null,
            "grid_auto_columns": null,
            "margin": null,
            "display": null,
            "left": null
          }
        },
        "7a396aae1f9c4b8ab565978a63864a18": {
          "model_module": "@jupyter-widgets/controls",
          "model_name": "HTMLModel",
          "model_module_version": "1.5.0",
          "state": {
            "_view_name": "HTMLView",
            "style": "IPY_MODEL_9d84b80fcc7b451ca2e541d2db9c1be3",
            "_dom_classes": [],
            "description": "",
            "_model_name": "HTMLModel",
            "placeholder": "​",
            "_view_module": "@jupyter-widgets/controls",
            "_model_module_version": "1.5.0",
            "value": "100%",
            "_view_count": null,
            "_view_module_version": "1.5.0",
            "description_tooltip": null,
            "_model_module": "@jupyter-widgets/controls",
            "layout": "IPY_MODEL_946f7c4ef27b46049eed3264353260e0"
          }
        },
        "cda5d05de5a2424abaf1515123d077cb": {
          "model_module": "@jupyter-widgets/controls",
          "model_name": "FloatProgressModel",
          "model_module_version": "1.5.0",
          "state": {
            "_view_name": "ProgressView",
            "style": "IPY_MODEL_44867c1aaa724613814663a02a717253",
            "_dom_classes": [],
            "description": "",
            "_model_name": "FloatProgressModel",
            "bar_style": "success",
            "max": 10,
            "_view_module": "@jupyter-widgets/controls",
            "_model_module_version": "1.5.0",
            "value": 10,
            "_view_count": null,
            "_view_module_version": "1.5.0",
            "orientation": "horizontal",
            "min": 0,
            "description_tooltip": null,
            "_model_module": "@jupyter-widgets/controls",
            "layout": "IPY_MODEL_a1965d4d989f43688f94ba05efa860c4"
          }
        },
        "cccf662a65584455ba740c45e22eb92e": {
          "model_module": "@jupyter-widgets/controls",
          "model_name": "HTMLModel",
          "model_module_version": "1.5.0",
          "state": {
            "_view_name": "HTMLView",
            "style": "IPY_MODEL_9f609ffcea574da994a89a2e4b75a417",
            "_dom_classes": [],
            "description": "",
            "_model_name": "HTMLModel",
            "placeholder": "​",
            "_view_module": "@jupyter-widgets/controls",
            "_model_module_version": "1.5.0",
            "value": " 10/10 [02:52&lt;00:00, 16.80s/it]",
            "_view_count": null,
            "_view_module_version": "1.5.0",
            "description_tooltip": null,
            "_model_module": "@jupyter-widgets/controls",
            "layout": "IPY_MODEL_d60508379b7d441f95975cf6a5c6beba"
          }
        },
        "9d84b80fcc7b451ca2e541d2db9c1be3": {
          "model_module": "@jupyter-widgets/controls",
          "model_name": "DescriptionStyleModel",
          "model_module_version": "1.5.0",
          "state": {
            "_view_name": "StyleView",
            "_model_name": "DescriptionStyleModel",
            "description_width": "",
            "_view_module": "@jupyter-widgets/base",
            "_model_module_version": "1.5.0",
            "_view_count": null,
            "_view_module_version": "1.2.0",
            "_model_module": "@jupyter-widgets/controls"
          }
        },
        "946f7c4ef27b46049eed3264353260e0": {
          "model_module": "@jupyter-widgets/base",
          "model_name": "LayoutModel",
          "model_module_version": "1.2.0",
          "state": {
            "_view_name": "LayoutView",
            "grid_template_rows": null,
            "right": null,
            "justify_content": null,
            "_view_module": "@jupyter-widgets/base",
            "overflow": null,
            "_model_module_version": "1.2.0",
            "_view_count": null,
            "flex_flow": null,
            "width": null,
            "min_width": null,
            "border": null,
            "align_items": null,
            "bottom": null,
            "_model_module": "@jupyter-widgets/base",
            "top": null,
            "grid_column": null,
            "overflow_y": null,
            "overflow_x": null,
            "grid_auto_flow": null,
            "grid_area": null,
            "grid_template_columns": null,
            "flex": null,
            "_model_name": "LayoutModel",
            "justify_items": null,
            "grid_row": null,
            "max_height": null,
            "align_content": null,
            "visibility": null,
            "align_self": null,
            "height": null,
            "min_height": null,
            "padding": null,
            "grid_auto_rows": null,
            "grid_gap": null,
            "max_width": null,
            "order": null,
            "_view_module_version": "1.2.0",
            "grid_template_areas": null,
            "object_position": null,
            "object_fit": null,
            "grid_auto_columns": null,
            "margin": null,
            "display": null,
            "left": null
          }
        },
        "44867c1aaa724613814663a02a717253": {
          "model_module": "@jupyter-widgets/controls",
          "model_name": "ProgressStyleModel",
          "model_module_version": "1.5.0",
          "state": {
            "_view_name": "StyleView",
            "_model_name": "ProgressStyleModel",
            "description_width": "",
            "_view_module": "@jupyter-widgets/base",
            "_model_module_version": "1.5.0",
            "_view_count": null,
            "_view_module_version": "1.2.0",
            "bar_color": null,
            "_model_module": "@jupyter-widgets/controls"
          }
        },
        "a1965d4d989f43688f94ba05efa860c4": {
          "model_module": "@jupyter-widgets/base",
          "model_name": "LayoutModel",
          "model_module_version": "1.2.0",
          "state": {
            "_view_name": "LayoutView",
            "grid_template_rows": null,
            "right": null,
            "justify_content": null,
            "_view_module": "@jupyter-widgets/base",
            "overflow": null,
            "_model_module_version": "1.2.0",
            "_view_count": null,
            "flex_flow": null,
            "width": null,
            "min_width": null,
            "border": null,
            "align_items": null,
            "bottom": null,
            "_model_module": "@jupyter-widgets/base",
            "top": null,
            "grid_column": null,
            "overflow_y": null,
            "overflow_x": null,
            "grid_auto_flow": null,
            "grid_area": null,
            "grid_template_columns": null,
            "flex": null,
            "_model_name": "LayoutModel",
            "justify_items": null,
            "grid_row": null,
            "max_height": null,
            "align_content": null,
            "visibility": null,
            "align_self": null,
            "height": null,
            "min_height": null,
            "padding": null,
            "grid_auto_rows": null,
            "grid_gap": null,
            "max_width": null,
            "order": null,
            "_view_module_version": "1.2.0",
            "grid_template_areas": null,
            "object_position": null,
            "object_fit": null,
            "grid_auto_columns": null,
            "margin": null,
            "display": null,
            "left": null
          }
        },
        "9f609ffcea574da994a89a2e4b75a417": {
          "model_module": "@jupyter-widgets/controls",
          "model_name": "DescriptionStyleModel",
          "model_module_version": "1.5.0",
          "state": {
            "_view_name": "StyleView",
            "_model_name": "DescriptionStyleModel",
            "description_width": "",
            "_view_module": "@jupyter-widgets/base",
            "_model_module_version": "1.5.0",
            "_view_count": null,
            "_view_module_version": "1.2.0",
            "_model_module": "@jupyter-widgets/controls"
          }
        },
        "d60508379b7d441f95975cf6a5c6beba": {
          "model_module": "@jupyter-widgets/base",
          "model_name": "LayoutModel",
          "model_module_version": "1.2.0",
          "state": {
            "_view_name": "LayoutView",
            "grid_template_rows": null,
            "right": null,
            "justify_content": null,
            "_view_module": "@jupyter-widgets/base",
            "overflow": null,
            "_model_module_version": "1.2.0",
            "_view_count": null,
            "flex_flow": null,
            "width": null,
            "min_width": null,
            "border": null,
            "align_items": null,
            "bottom": null,
            "_model_module": "@jupyter-widgets/base",
            "top": null,
            "grid_column": null,
            "overflow_y": null,
            "overflow_x": null,
            "grid_auto_flow": null,
            "grid_area": null,
            "grid_template_columns": null,
            "flex": null,
            "_model_name": "LayoutModel",
            "justify_items": null,
            "grid_row": null,
            "max_height": null,
            "align_content": null,
            "visibility": null,
            "align_self": null,
            "height": null,
            "min_height": null,
            "padding": null,
            "grid_auto_rows": null,
            "grid_gap": null,
            "max_width": null,
            "order": null,
            "_view_module_version": "1.2.0",
            "grid_template_areas": null,
            "object_position": null,
            "object_fit": null,
            "grid_auto_columns": null,
            "margin": null,
            "display": null,
            "left": null
          }
        },
        "977e266bc757453b8394e79b1047beca": {
          "model_module": "@jupyter-widgets/controls",
          "model_name": "HBoxModel",
          "model_module_version": "1.5.0",
          "state": {
            "_view_name": "HBoxView",
            "_dom_classes": [],
            "_model_name": "HBoxModel",
            "_view_module": "@jupyter-widgets/controls",
            "_model_module_version": "1.5.0",
            "_view_count": null,
            "_view_module_version": "1.5.0",
            "box_style": "",
            "layout": "IPY_MODEL_881207a0bcd14be9bea37a48dbc23092",
            "_model_module": "@jupyter-widgets/controls",
            "children": [
              "IPY_MODEL_5cbd7186abc24a48a1c1db079539cb46",
              "IPY_MODEL_e778da94addf4366b1761dc2197407f6",
              "IPY_MODEL_255fca466fd14e73a0c63c64de18f420"
            ]
          }
        },
        "881207a0bcd14be9bea37a48dbc23092": {
          "model_module": "@jupyter-widgets/base",
          "model_name": "LayoutModel",
          "model_module_version": "1.2.0",
          "state": {
            "_view_name": "LayoutView",
            "grid_template_rows": null,
            "right": null,
            "justify_content": null,
            "_view_module": "@jupyter-widgets/base",
            "overflow": null,
            "_model_module_version": "1.2.0",
            "_view_count": null,
            "flex_flow": null,
            "width": null,
            "min_width": null,
            "border": null,
            "align_items": null,
            "bottom": null,
            "_model_module": "@jupyter-widgets/base",
            "top": null,
            "grid_column": null,
            "overflow_y": null,
            "overflow_x": null,
            "grid_auto_flow": null,
            "grid_area": null,
            "grid_template_columns": null,
            "flex": null,
            "_model_name": "LayoutModel",
            "justify_items": null,
            "grid_row": null,
            "max_height": null,
            "align_content": null,
            "visibility": null,
            "align_self": null,
            "height": null,
            "min_height": null,
            "padding": null,
            "grid_auto_rows": null,
            "grid_gap": null,
            "max_width": null,
            "order": null,
            "_view_module_version": "1.2.0",
            "grid_template_areas": null,
            "object_position": null,
            "object_fit": null,
            "grid_auto_columns": null,
            "margin": null,
            "display": null,
            "left": null
          }
        },
        "5cbd7186abc24a48a1c1db079539cb46": {
          "model_module": "@jupyter-widgets/controls",
          "model_name": "HTMLModel",
          "model_module_version": "1.5.0",
          "state": {
            "_view_name": "HTMLView",
            "style": "IPY_MODEL_ff85fe717f7b40c78ba9cb4af3961d1f",
            "_dom_classes": [],
            "description": "",
            "_model_name": "HTMLModel",
            "placeholder": "​",
            "_view_module": "@jupyter-widgets/controls",
            "_model_module_version": "1.5.0",
            "value": "100%",
            "_view_count": null,
            "_view_module_version": "1.5.0",
            "description_tooltip": null,
            "_model_module": "@jupyter-widgets/controls",
            "layout": "IPY_MODEL_8fa7e777d4594404a8de52181d588aac"
          }
        },
        "e778da94addf4366b1761dc2197407f6": {
          "model_module": "@jupyter-widgets/controls",
          "model_name": "FloatProgressModel",
          "model_module_version": "1.5.0",
          "state": {
            "_view_name": "ProgressView",
            "style": "IPY_MODEL_14fe1d43d8694bb980c98f9709a93118",
            "_dom_classes": [],
            "description": "",
            "_model_name": "FloatProgressModel",
            "bar_style": "success",
            "max": 50,
            "_view_module": "@jupyter-widgets/controls",
            "_model_module_version": "1.5.0",
            "value": 50,
            "_view_count": null,
            "_view_module_version": "1.5.0",
            "orientation": "horizontal",
            "min": 0,
            "description_tooltip": null,
            "_model_module": "@jupyter-widgets/controls",
            "layout": "IPY_MODEL_b4990cb1f92c4bf28acba44e128b6001"
          }
        },
        "255fca466fd14e73a0c63c64de18f420": {
          "model_module": "@jupyter-widgets/controls",
          "model_name": "HTMLModel",
          "model_module_version": "1.5.0",
          "state": {
            "_view_name": "HTMLView",
            "style": "IPY_MODEL_56b5719276f647ac8c89b6f46bd2ba80",
            "_dom_classes": [],
            "description": "",
            "_model_name": "HTMLModel",
            "placeholder": "​",
            "_view_module": "@jupyter-widgets/controls",
            "_model_module_version": "1.5.0",
            "value": " 50/50 [11:02&lt;00:00, 18.18s/it]",
            "_view_count": null,
            "_view_module_version": "1.5.0",
            "description_tooltip": null,
            "_model_module": "@jupyter-widgets/controls",
            "layout": "IPY_MODEL_5e8c498aaa1847eabdf2957b9332e14b"
          }
        },
        "ff85fe717f7b40c78ba9cb4af3961d1f": {
          "model_module": "@jupyter-widgets/controls",
          "model_name": "DescriptionStyleModel",
          "model_module_version": "1.5.0",
          "state": {
            "_view_name": "StyleView",
            "_model_name": "DescriptionStyleModel",
            "description_width": "",
            "_view_module": "@jupyter-widgets/base",
            "_model_module_version": "1.5.0",
            "_view_count": null,
            "_view_module_version": "1.2.0",
            "_model_module": "@jupyter-widgets/controls"
          }
        },
        "8fa7e777d4594404a8de52181d588aac": {
          "model_module": "@jupyter-widgets/base",
          "model_name": "LayoutModel",
          "model_module_version": "1.2.0",
          "state": {
            "_view_name": "LayoutView",
            "grid_template_rows": null,
            "right": null,
            "justify_content": null,
            "_view_module": "@jupyter-widgets/base",
            "overflow": null,
            "_model_module_version": "1.2.0",
            "_view_count": null,
            "flex_flow": null,
            "width": null,
            "min_width": null,
            "border": null,
            "align_items": null,
            "bottom": null,
            "_model_module": "@jupyter-widgets/base",
            "top": null,
            "grid_column": null,
            "overflow_y": null,
            "overflow_x": null,
            "grid_auto_flow": null,
            "grid_area": null,
            "grid_template_columns": null,
            "flex": null,
            "_model_name": "LayoutModel",
            "justify_items": null,
            "grid_row": null,
            "max_height": null,
            "align_content": null,
            "visibility": null,
            "align_self": null,
            "height": null,
            "min_height": null,
            "padding": null,
            "grid_auto_rows": null,
            "grid_gap": null,
            "max_width": null,
            "order": null,
            "_view_module_version": "1.2.0",
            "grid_template_areas": null,
            "object_position": null,
            "object_fit": null,
            "grid_auto_columns": null,
            "margin": null,
            "display": null,
            "left": null
          }
        },
        "14fe1d43d8694bb980c98f9709a93118": {
          "model_module": "@jupyter-widgets/controls",
          "model_name": "ProgressStyleModel",
          "model_module_version": "1.5.0",
          "state": {
            "_view_name": "StyleView",
            "_model_name": "ProgressStyleModel",
            "description_width": "",
            "_view_module": "@jupyter-widgets/base",
            "_model_module_version": "1.5.0",
            "_view_count": null,
            "_view_module_version": "1.2.0",
            "bar_color": null,
            "_model_module": "@jupyter-widgets/controls"
          }
        },
        "b4990cb1f92c4bf28acba44e128b6001": {
          "model_module": "@jupyter-widgets/base",
          "model_name": "LayoutModel",
          "model_module_version": "1.2.0",
          "state": {
            "_view_name": "LayoutView",
            "grid_template_rows": null,
            "right": null,
            "justify_content": null,
            "_view_module": "@jupyter-widgets/base",
            "overflow": null,
            "_model_module_version": "1.2.0",
            "_view_count": null,
            "flex_flow": null,
            "width": null,
            "min_width": null,
            "border": null,
            "align_items": null,
            "bottom": null,
            "_model_module": "@jupyter-widgets/base",
            "top": null,
            "grid_column": null,
            "overflow_y": null,
            "overflow_x": null,
            "grid_auto_flow": null,
            "grid_area": null,
            "grid_template_columns": null,
            "flex": null,
            "_model_name": "LayoutModel",
            "justify_items": null,
            "grid_row": null,
            "max_height": null,
            "align_content": null,
            "visibility": null,
            "align_self": null,
            "height": null,
            "min_height": null,
            "padding": null,
            "grid_auto_rows": null,
            "grid_gap": null,
            "max_width": null,
            "order": null,
            "_view_module_version": "1.2.0",
            "grid_template_areas": null,
            "object_position": null,
            "object_fit": null,
            "grid_auto_columns": null,
            "margin": null,
            "display": null,
            "left": null
          }
        },
        "56b5719276f647ac8c89b6f46bd2ba80": {
          "model_module": "@jupyter-widgets/controls",
          "model_name": "DescriptionStyleModel",
          "model_module_version": "1.5.0",
          "state": {
            "_view_name": "StyleView",
            "_model_name": "DescriptionStyleModel",
            "description_width": "",
            "_view_module": "@jupyter-widgets/base",
            "_model_module_version": "1.5.0",
            "_view_count": null,
            "_view_module_version": "1.2.0",
            "_model_module": "@jupyter-widgets/controls"
          }
        },
        "5e8c498aaa1847eabdf2957b9332e14b": {
          "model_module": "@jupyter-widgets/base",
          "model_name": "LayoutModel",
          "model_module_version": "1.2.0",
          "state": {
            "_view_name": "LayoutView",
            "grid_template_rows": null,
            "right": null,
            "justify_content": null,
            "_view_module": "@jupyter-widgets/base",
            "overflow": null,
            "_model_module_version": "1.2.0",
            "_view_count": null,
            "flex_flow": null,
            "width": null,
            "min_width": null,
            "border": null,
            "align_items": null,
            "bottom": null,
            "_model_module": "@jupyter-widgets/base",
            "top": null,
            "grid_column": null,
            "overflow_y": null,
            "overflow_x": null,
            "grid_auto_flow": null,
            "grid_area": null,
            "grid_template_columns": null,
            "flex": null,
            "_model_name": "LayoutModel",
            "justify_items": null,
            "grid_row": null,
            "max_height": null,
            "align_content": null,
            "visibility": null,
            "align_self": null,
            "height": null,
            "min_height": null,
            "padding": null,
            "grid_auto_rows": null,
            "grid_gap": null,
            "max_width": null,
            "order": null,
            "_view_module_version": "1.2.0",
            "grid_template_areas": null,
            "object_position": null,
            "object_fit": null,
            "grid_auto_columns": null,
            "margin": null,
            "display": null,
            "left": null
          }
        },
        "e09ee16e8cd94f2295c2de5d22e0579d": {
          "model_module": "@jupyter-widgets/controls",
          "model_name": "HBoxModel",
          "model_module_version": "1.5.0",
          "state": {
            "_view_name": "HBoxView",
            "_dom_classes": [],
            "_model_name": "HBoxModel",
            "_view_module": "@jupyter-widgets/controls",
            "_model_module_version": "1.5.0",
            "_view_count": null,
            "_view_module_version": "1.5.0",
            "box_style": "",
            "layout": "IPY_MODEL_ea036940d4fb4f57b61cc274e4230e54",
            "_model_module": "@jupyter-widgets/controls",
            "children": [
              "IPY_MODEL_e9e2f6ff4061421abe1e07bf0fa2a465",
              "IPY_MODEL_1bc0ae80fddc4575a6cabb106a766b5c",
              "IPY_MODEL_1876d658012d45f2b76327ed94817b2a"
            ]
          }
        },
        "ea036940d4fb4f57b61cc274e4230e54": {
          "model_module": "@jupyter-widgets/base",
          "model_name": "LayoutModel",
          "model_module_version": "1.2.0",
          "state": {
            "_view_name": "LayoutView",
            "grid_template_rows": null,
            "right": null,
            "justify_content": null,
            "_view_module": "@jupyter-widgets/base",
            "overflow": null,
            "_model_module_version": "1.2.0",
            "_view_count": null,
            "flex_flow": null,
            "width": null,
            "min_width": null,
            "border": null,
            "align_items": null,
            "bottom": null,
            "_model_module": "@jupyter-widgets/base",
            "top": null,
            "grid_column": null,
            "overflow_y": null,
            "overflow_x": null,
            "grid_auto_flow": null,
            "grid_area": null,
            "grid_template_columns": null,
            "flex": null,
            "_model_name": "LayoutModel",
            "justify_items": null,
            "grid_row": null,
            "max_height": null,
            "align_content": null,
            "visibility": null,
            "align_self": null,
            "height": null,
            "min_height": null,
            "padding": null,
            "grid_auto_rows": null,
            "grid_gap": null,
            "max_width": null,
            "order": null,
            "_view_module_version": "1.2.0",
            "grid_template_areas": null,
            "object_position": null,
            "object_fit": null,
            "grid_auto_columns": null,
            "margin": null,
            "display": null,
            "left": null
          }
        },
        "e9e2f6ff4061421abe1e07bf0fa2a465": {
          "model_module": "@jupyter-widgets/controls",
          "model_name": "HTMLModel",
          "model_module_version": "1.5.0",
          "state": {
            "_view_name": "HTMLView",
            "style": "IPY_MODEL_62026290dfaf4126b2b46814fc2b095e",
            "_dom_classes": [],
            "description": "",
            "_model_name": "HTMLModel",
            "placeholder": "​",
            "_view_module": "@jupyter-widgets/controls",
            "_model_module_version": "1.5.0",
            "value": "100%",
            "_view_count": null,
            "_view_module_version": "1.5.0",
            "description_tooltip": null,
            "_model_module": "@jupyter-widgets/controls",
            "layout": "IPY_MODEL_2801e71b1aca49358dff66eab78230b3"
          }
        },
        "1bc0ae80fddc4575a6cabb106a766b5c": {
          "model_module": "@jupyter-widgets/controls",
          "model_name": "FloatProgressModel",
          "model_module_version": "1.5.0",
          "state": {
            "_view_name": "ProgressView",
            "style": "IPY_MODEL_65c25845952549a09c5e4c8f2dafe869",
            "_dom_classes": [],
            "description": "",
            "_model_name": "FloatProgressModel",
            "bar_style": "success",
            "max": 10,
            "_view_module": "@jupyter-widgets/controls",
            "_model_module_version": "1.5.0",
            "value": 10,
            "_view_count": null,
            "_view_module_version": "1.5.0",
            "orientation": "horizontal",
            "min": 0,
            "description_tooltip": null,
            "_model_module": "@jupyter-widgets/controls",
            "layout": "IPY_MODEL_a84be767d92143469aede8b6c6d0e3cf"
          }
        },
        "1876d658012d45f2b76327ed94817b2a": {
          "model_module": "@jupyter-widgets/controls",
          "model_name": "HTMLModel",
          "model_module_version": "1.5.0",
          "state": {
            "_view_name": "HTMLView",
            "style": "IPY_MODEL_1c282fa9acc549a78c3ecd668b86f698",
            "_dom_classes": [],
            "description": "",
            "_model_name": "HTMLModel",
            "placeholder": "​",
            "_view_module": "@jupyter-widgets/controls",
            "_model_module_version": "1.5.0",
            "value": " 10/10 [28:49&lt;00:00, 165.06s/it]",
            "_view_count": null,
            "_view_module_version": "1.5.0",
            "description_tooltip": null,
            "_model_module": "@jupyter-widgets/controls",
            "layout": "IPY_MODEL_888c9b2b219445eda5c7ca26d2e79ee9"
          }
        },
        "62026290dfaf4126b2b46814fc2b095e": {
          "model_module": "@jupyter-widgets/controls",
          "model_name": "DescriptionStyleModel",
          "model_module_version": "1.5.0",
          "state": {
            "_view_name": "StyleView",
            "_model_name": "DescriptionStyleModel",
            "description_width": "",
            "_view_module": "@jupyter-widgets/base",
            "_model_module_version": "1.5.0",
            "_view_count": null,
            "_view_module_version": "1.2.0",
            "_model_module": "@jupyter-widgets/controls"
          }
        },
        "2801e71b1aca49358dff66eab78230b3": {
          "model_module": "@jupyter-widgets/base",
          "model_name": "LayoutModel",
          "model_module_version": "1.2.0",
          "state": {
            "_view_name": "LayoutView",
            "grid_template_rows": null,
            "right": null,
            "justify_content": null,
            "_view_module": "@jupyter-widgets/base",
            "overflow": null,
            "_model_module_version": "1.2.0",
            "_view_count": null,
            "flex_flow": null,
            "width": null,
            "min_width": null,
            "border": null,
            "align_items": null,
            "bottom": null,
            "_model_module": "@jupyter-widgets/base",
            "top": null,
            "grid_column": null,
            "overflow_y": null,
            "overflow_x": null,
            "grid_auto_flow": null,
            "grid_area": null,
            "grid_template_columns": null,
            "flex": null,
            "_model_name": "LayoutModel",
            "justify_items": null,
            "grid_row": null,
            "max_height": null,
            "align_content": null,
            "visibility": null,
            "align_self": null,
            "height": null,
            "min_height": null,
            "padding": null,
            "grid_auto_rows": null,
            "grid_gap": null,
            "max_width": null,
            "order": null,
            "_view_module_version": "1.2.0",
            "grid_template_areas": null,
            "object_position": null,
            "object_fit": null,
            "grid_auto_columns": null,
            "margin": null,
            "display": null,
            "left": null
          }
        },
        "65c25845952549a09c5e4c8f2dafe869": {
          "model_module": "@jupyter-widgets/controls",
          "model_name": "ProgressStyleModel",
          "model_module_version": "1.5.0",
          "state": {
            "_view_name": "StyleView",
            "_model_name": "ProgressStyleModel",
            "description_width": "",
            "_view_module": "@jupyter-widgets/base",
            "_model_module_version": "1.5.0",
            "_view_count": null,
            "_view_module_version": "1.2.0",
            "bar_color": null,
            "_model_module": "@jupyter-widgets/controls"
          }
        },
        "a84be767d92143469aede8b6c6d0e3cf": {
          "model_module": "@jupyter-widgets/base",
          "model_name": "LayoutModel",
          "model_module_version": "1.2.0",
          "state": {
            "_view_name": "LayoutView",
            "grid_template_rows": null,
            "right": null,
            "justify_content": null,
            "_view_module": "@jupyter-widgets/base",
            "overflow": null,
            "_model_module_version": "1.2.0",
            "_view_count": null,
            "flex_flow": null,
            "width": null,
            "min_width": null,
            "border": null,
            "align_items": null,
            "bottom": null,
            "_model_module": "@jupyter-widgets/base",
            "top": null,
            "grid_column": null,
            "overflow_y": null,
            "overflow_x": null,
            "grid_auto_flow": null,
            "grid_area": null,
            "grid_template_columns": null,
            "flex": null,
            "_model_name": "LayoutModel",
            "justify_items": null,
            "grid_row": null,
            "max_height": null,
            "align_content": null,
            "visibility": null,
            "align_self": null,
            "height": null,
            "min_height": null,
            "padding": null,
            "grid_auto_rows": null,
            "grid_gap": null,
            "max_width": null,
            "order": null,
            "_view_module_version": "1.2.0",
            "grid_template_areas": null,
            "object_position": null,
            "object_fit": null,
            "grid_auto_columns": null,
            "margin": null,
            "display": null,
            "left": null
          }
        },
        "1c282fa9acc549a78c3ecd668b86f698": {
          "model_module": "@jupyter-widgets/controls",
          "model_name": "DescriptionStyleModel",
          "model_module_version": "1.5.0",
          "state": {
            "_view_name": "StyleView",
            "_model_name": "DescriptionStyleModel",
            "description_width": "",
            "_view_module": "@jupyter-widgets/base",
            "_model_module_version": "1.5.0",
            "_view_count": null,
            "_view_module_version": "1.2.0",
            "_model_module": "@jupyter-widgets/controls"
          }
        },
        "888c9b2b219445eda5c7ca26d2e79ee9": {
          "model_module": "@jupyter-widgets/base",
          "model_name": "LayoutModel",
          "model_module_version": "1.2.0",
          "state": {
            "_view_name": "LayoutView",
            "grid_template_rows": null,
            "right": null,
            "justify_content": null,
            "_view_module": "@jupyter-widgets/base",
            "overflow": null,
            "_model_module_version": "1.2.0",
            "_view_count": null,
            "flex_flow": null,
            "width": null,
            "min_width": null,
            "border": null,
            "align_items": null,
            "bottom": null,
            "_model_module": "@jupyter-widgets/base",
            "top": null,
            "grid_column": null,
            "overflow_y": null,
            "overflow_x": null,
            "grid_auto_flow": null,
            "grid_area": null,
            "grid_template_columns": null,
            "flex": null,
            "_model_name": "LayoutModel",
            "justify_items": null,
            "grid_row": null,
            "max_height": null,
            "align_content": null,
            "visibility": null,
            "align_self": null,
            "height": null,
            "min_height": null,
            "padding": null,
            "grid_auto_rows": null,
            "grid_gap": null,
            "max_width": null,
            "order": null,
            "_view_module_version": "1.2.0",
            "grid_template_areas": null,
            "object_position": null,
            "object_fit": null,
            "grid_auto_columns": null,
            "margin": null,
            "display": null,
            "left": null
          }
        },
        "12eb9e6e4d094d90816b988ecbf53e24": {
          "model_module": "@jupyter-widgets/controls",
          "model_name": "HBoxModel",
          "model_module_version": "1.5.0",
          "state": {
            "_view_name": "HBoxView",
            "_dom_classes": [],
            "_model_name": "HBoxModel",
            "_view_module": "@jupyter-widgets/controls",
            "_model_module_version": "1.5.0",
            "_view_count": null,
            "_view_module_version": "1.5.0",
            "box_style": "",
            "layout": "IPY_MODEL_6458cc22391640df99913239933674c7",
            "_model_module": "@jupyter-widgets/controls",
            "children": [
              "IPY_MODEL_a3555288c7f74e20969dff595a2946f1",
              "IPY_MODEL_f23704578c7a42d5946e35029a913560",
              "IPY_MODEL_db9b46b32df743be89ee088df61d3412"
            ]
          }
        },
        "6458cc22391640df99913239933674c7": {
          "model_module": "@jupyter-widgets/base",
          "model_name": "LayoutModel",
          "model_module_version": "1.2.0",
          "state": {
            "_view_name": "LayoutView",
            "grid_template_rows": null,
            "right": null,
            "justify_content": null,
            "_view_module": "@jupyter-widgets/base",
            "overflow": null,
            "_model_module_version": "1.2.0",
            "_view_count": null,
            "flex_flow": null,
            "width": null,
            "min_width": null,
            "border": null,
            "align_items": null,
            "bottom": null,
            "_model_module": "@jupyter-widgets/base",
            "top": null,
            "grid_column": null,
            "overflow_y": null,
            "overflow_x": null,
            "grid_auto_flow": null,
            "grid_area": null,
            "grid_template_columns": null,
            "flex": null,
            "_model_name": "LayoutModel",
            "justify_items": null,
            "grid_row": null,
            "max_height": null,
            "align_content": null,
            "visibility": null,
            "align_self": null,
            "height": null,
            "min_height": null,
            "padding": null,
            "grid_auto_rows": null,
            "grid_gap": null,
            "max_width": null,
            "order": null,
            "_view_module_version": "1.2.0",
            "grid_template_areas": null,
            "object_position": null,
            "object_fit": null,
            "grid_auto_columns": null,
            "margin": null,
            "display": null,
            "left": null
          }
        },
        "a3555288c7f74e20969dff595a2946f1": {
          "model_module": "@jupyter-widgets/controls",
          "model_name": "HTMLModel",
          "model_module_version": "1.5.0",
          "state": {
            "_view_name": "HTMLView",
            "style": "IPY_MODEL_c6f950480d4847b29a6f1cdf14e698d5",
            "_dom_classes": [],
            "description": "",
            "_model_name": "HTMLModel",
            "placeholder": "​",
            "_view_module": "@jupyter-widgets/controls",
            "_model_module_version": "1.5.0",
            "value": "100%",
            "_view_count": null,
            "_view_module_version": "1.5.0",
            "description_tooltip": null,
            "_model_module": "@jupyter-widgets/controls",
            "layout": "IPY_MODEL_305b4d1cdd9d4eb48cb8e423d5360ba5"
          }
        },
        "f23704578c7a42d5946e35029a913560": {
          "model_module": "@jupyter-widgets/controls",
          "model_name": "FloatProgressModel",
          "model_module_version": "1.5.0",
          "state": {
            "_view_name": "ProgressView",
            "style": "IPY_MODEL_df30330a2d7c4f32ae59ee957ef47159",
            "_dom_classes": [],
            "description": "",
            "_model_name": "FloatProgressModel",
            "bar_style": "success",
            "max": 50,
            "_view_module": "@jupyter-widgets/controls",
            "_model_module_version": "1.5.0",
            "value": 50,
            "_view_count": null,
            "_view_module_version": "1.5.0",
            "orientation": "horizontal",
            "min": 0,
            "description_tooltip": null,
            "_model_module": "@jupyter-widgets/controls",
            "layout": "IPY_MODEL_6b7b234a2ad142e08dd5d4c79291e1b6"
          }
        },
        "db9b46b32df743be89ee088df61d3412": {
          "model_module": "@jupyter-widgets/controls",
          "model_name": "HTMLModel",
          "model_module_version": "1.5.0",
          "state": {
            "_view_name": "HTMLView",
            "style": "IPY_MODEL_971a22c0510a443e9f7a2a7ba188cbf8",
            "_dom_classes": [],
            "description": "",
            "_model_name": "HTMLModel",
            "placeholder": "​",
            "_view_module": "@jupyter-widgets/controls",
            "_model_module_version": "1.5.0",
            "value": " 50/50 [08:38&lt;00:00, 10.30s/it]",
            "_view_count": null,
            "_view_module_version": "1.5.0",
            "description_tooltip": null,
            "_model_module": "@jupyter-widgets/controls",
            "layout": "IPY_MODEL_510ef694b0e84f3f965244f34af9160b"
          }
        },
        "c6f950480d4847b29a6f1cdf14e698d5": {
          "model_module": "@jupyter-widgets/controls",
          "model_name": "DescriptionStyleModel",
          "model_module_version": "1.5.0",
          "state": {
            "_view_name": "StyleView",
            "_model_name": "DescriptionStyleModel",
            "description_width": "",
            "_view_module": "@jupyter-widgets/base",
            "_model_module_version": "1.5.0",
            "_view_count": null,
            "_view_module_version": "1.2.0",
            "_model_module": "@jupyter-widgets/controls"
          }
        },
        "305b4d1cdd9d4eb48cb8e423d5360ba5": {
          "model_module": "@jupyter-widgets/base",
          "model_name": "LayoutModel",
          "model_module_version": "1.2.0",
          "state": {
            "_view_name": "LayoutView",
            "grid_template_rows": null,
            "right": null,
            "justify_content": null,
            "_view_module": "@jupyter-widgets/base",
            "overflow": null,
            "_model_module_version": "1.2.0",
            "_view_count": null,
            "flex_flow": null,
            "width": null,
            "min_width": null,
            "border": null,
            "align_items": null,
            "bottom": null,
            "_model_module": "@jupyter-widgets/base",
            "top": null,
            "grid_column": null,
            "overflow_y": null,
            "overflow_x": null,
            "grid_auto_flow": null,
            "grid_area": null,
            "grid_template_columns": null,
            "flex": null,
            "_model_name": "LayoutModel",
            "justify_items": null,
            "grid_row": null,
            "max_height": null,
            "align_content": null,
            "visibility": null,
            "align_self": null,
            "height": null,
            "min_height": null,
            "padding": null,
            "grid_auto_rows": null,
            "grid_gap": null,
            "max_width": null,
            "order": null,
            "_view_module_version": "1.2.0",
            "grid_template_areas": null,
            "object_position": null,
            "object_fit": null,
            "grid_auto_columns": null,
            "margin": null,
            "display": null,
            "left": null
          }
        },
        "df30330a2d7c4f32ae59ee957ef47159": {
          "model_module": "@jupyter-widgets/controls",
          "model_name": "ProgressStyleModel",
          "model_module_version": "1.5.0",
          "state": {
            "_view_name": "StyleView",
            "_model_name": "ProgressStyleModel",
            "description_width": "",
            "_view_module": "@jupyter-widgets/base",
            "_model_module_version": "1.5.0",
            "_view_count": null,
            "_view_module_version": "1.2.0",
            "bar_color": null,
            "_model_module": "@jupyter-widgets/controls"
          }
        },
        "6b7b234a2ad142e08dd5d4c79291e1b6": {
          "model_module": "@jupyter-widgets/base",
          "model_name": "LayoutModel",
          "model_module_version": "1.2.0",
          "state": {
            "_view_name": "LayoutView",
            "grid_template_rows": null,
            "right": null,
            "justify_content": null,
            "_view_module": "@jupyter-widgets/base",
            "overflow": null,
            "_model_module_version": "1.2.0",
            "_view_count": null,
            "flex_flow": null,
            "width": null,
            "min_width": null,
            "border": null,
            "align_items": null,
            "bottom": null,
            "_model_module": "@jupyter-widgets/base",
            "top": null,
            "grid_column": null,
            "overflow_y": null,
            "overflow_x": null,
            "grid_auto_flow": null,
            "grid_area": null,
            "grid_template_columns": null,
            "flex": null,
            "_model_name": "LayoutModel",
            "justify_items": null,
            "grid_row": null,
            "max_height": null,
            "align_content": null,
            "visibility": null,
            "align_self": null,
            "height": null,
            "min_height": null,
            "padding": null,
            "grid_auto_rows": null,
            "grid_gap": null,
            "max_width": null,
            "order": null,
            "_view_module_version": "1.2.0",
            "grid_template_areas": null,
            "object_position": null,
            "object_fit": null,
            "grid_auto_columns": null,
            "margin": null,
            "display": null,
            "left": null
          }
        },
        "971a22c0510a443e9f7a2a7ba188cbf8": {
          "model_module": "@jupyter-widgets/controls",
          "model_name": "DescriptionStyleModel",
          "model_module_version": "1.5.0",
          "state": {
            "_view_name": "StyleView",
            "_model_name": "DescriptionStyleModel",
            "description_width": "",
            "_view_module": "@jupyter-widgets/base",
            "_model_module_version": "1.5.0",
            "_view_count": null,
            "_view_module_version": "1.2.0",
            "_model_module": "@jupyter-widgets/controls"
          }
        },
        "510ef694b0e84f3f965244f34af9160b": {
          "model_module": "@jupyter-widgets/base",
          "model_name": "LayoutModel",
          "model_module_version": "1.2.0",
          "state": {
            "_view_name": "LayoutView",
            "grid_template_rows": null,
            "right": null,
            "justify_content": null,
            "_view_module": "@jupyter-widgets/base",
            "overflow": null,
            "_model_module_version": "1.2.0",
            "_view_count": null,
            "flex_flow": null,
            "width": null,
            "min_width": null,
            "border": null,
            "align_items": null,
            "bottom": null,
            "_model_module": "@jupyter-widgets/base",
            "top": null,
            "grid_column": null,
            "overflow_y": null,
            "overflow_x": null,
            "grid_auto_flow": null,
            "grid_area": null,
            "grid_template_columns": null,
            "flex": null,
            "_model_name": "LayoutModel",
            "justify_items": null,
            "grid_row": null,
            "max_height": null,
            "align_content": null,
            "visibility": null,
            "align_self": null,
            "height": null,
            "min_height": null,
            "padding": null,
            "grid_auto_rows": null,
            "grid_gap": null,
            "max_width": null,
            "order": null,
            "_view_module_version": "1.2.0",
            "grid_template_areas": null,
            "object_position": null,
            "object_fit": null,
            "grid_auto_columns": null,
            "margin": null,
            "display": null,
            "left": null
          }
        },
        "59e826ae56144900bd46e96e5a938b21": {
          "model_module": "@jupyter-widgets/controls",
          "model_name": "HBoxModel",
          "model_module_version": "1.5.0",
          "state": {
            "_view_name": "HBoxView",
            "_dom_classes": [],
            "_model_name": "HBoxModel",
            "_view_module": "@jupyter-widgets/controls",
            "_model_module_version": "1.5.0",
            "_view_count": null,
            "_view_module_version": "1.5.0",
            "box_style": "",
            "layout": "IPY_MODEL_af8fe44bd7a34eeaa6bd3f1697826a48",
            "_model_module": "@jupyter-widgets/controls",
            "children": [
              "IPY_MODEL_046e592bef4441e0bd32ea375f608cef",
              "IPY_MODEL_691c2b823cf34d1499635a70ed9ce118",
              "IPY_MODEL_41548b040bef4404be22116bd9f627fc"
            ]
          }
        },
        "af8fe44bd7a34eeaa6bd3f1697826a48": {
          "model_module": "@jupyter-widgets/base",
          "model_name": "LayoutModel",
          "model_module_version": "1.2.0",
          "state": {
            "_view_name": "LayoutView",
            "grid_template_rows": null,
            "right": null,
            "justify_content": null,
            "_view_module": "@jupyter-widgets/base",
            "overflow": null,
            "_model_module_version": "1.2.0",
            "_view_count": null,
            "flex_flow": null,
            "width": null,
            "min_width": null,
            "border": null,
            "align_items": null,
            "bottom": null,
            "_model_module": "@jupyter-widgets/base",
            "top": null,
            "grid_column": null,
            "overflow_y": null,
            "overflow_x": null,
            "grid_auto_flow": null,
            "grid_area": null,
            "grid_template_columns": null,
            "flex": null,
            "_model_name": "LayoutModel",
            "justify_items": null,
            "grid_row": null,
            "max_height": null,
            "align_content": null,
            "visibility": null,
            "align_self": null,
            "height": null,
            "min_height": null,
            "padding": null,
            "grid_auto_rows": null,
            "grid_gap": null,
            "max_width": null,
            "order": null,
            "_view_module_version": "1.2.0",
            "grid_template_areas": null,
            "object_position": null,
            "object_fit": null,
            "grid_auto_columns": null,
            "margin": null,
            "display": null,
            "left": null
          }
        },
        "046e592bef4441e0bd32ea375f608cef": {
          "model_module": "@jupyter-widgets/controls",
          "model_name": "HTMLModel",
          "model_module_version": "1.5.0",
          "state": {
            "_view_name": "HTMLView",
            "style": "IPY_MODEL_80d359097ee940eeb2692829715c2075",
            "_dom_classes": [],
            "description": "",
            "_model_name": "HTMLModel",
            "placeholder": "​",
            "_view_module": "@jupyter-widgets/controls",
            "_model_module_version": "1.5.0",
            "value": "100%",
            "_view_count": null,
            "_view_module_version": "1.5.0",
            "description_tooltip": null,
            "_model_module": "@jupyter-widgets/controls",
            "layout": "IPY_MODEL_44947602ed124272bcb5d5ce9b5208e7"
          }
        },
        "691c2b823cf34d1499635a70ed9ce118": {
          "model_module": "@jupyter-widgets/controls",
          "model_name": "FloatProgressModel",
          "model_module_version": "1.5.0",
          "state": {
            "_view_name": "ProgressView",
            "style": "IPY_MODEL_c62c954ad0ad44d88b617495c1cbf299",
            "_dom_classes": [],
            "description": "",
            "_model_name": "FloatProgressModel",
            "bar_style": "success",
            "max": 100,
            "_view_module": "@jupyter-widgets/controls",
            "_model_module_version": "1.5.0",
            "value": 100,
            "_view_count": null,
            "_view_module_version": "1.5.0",
            "orientation": "horizontal",
            "min": 0,
            "description_tooltip": null,
            "_model_module": "@jupyter-widgets/controls",
            "layout": "IPY_MODEL_ac72d53439cc4b5a9ca46bee91f3caa4"
          }
        },
        "41548b040bef4404be22116bd9f627fc": {
          "model_module": "@jupyter-widgets/controls",
          "model_name": "HTMLModel",
          "model_module_version": "1.5.0",
          "state": {
            "_view_name": "HTMLView",
            "style": "IPY_MODEL_4d15f1aa5230476389991c125731a826",
            "_dom_classes": [],
            "description": "",
            "_model_name": "HTMLModel",
            "placeholder": "​",
            "_view_module": "@jupyter-widgets/controls",
            "_model_module_version": "1.5.0",
            "value": " 100/100 [27:12&lt;00:00, 23.54s/it]",
            "_view_count": null,
            "_view_module_version": "1.5.0",
            "description_tooltip": null,
            "_model_module": "@jupyter-widgets/controls",
            "layout": "IPY_MODEL_24b5d2c4fd4d473f820f5c23a1fc1b02"
          }
        },
        "80d359097ee940eeb2692829715c2075": {
          "model_module": "@jupyter-widgets/controls",
          "model_name": "DescriptionStyleModel",
          "model_module_version": "1.5.0",
          "state": {
            "_view_name": "StyleView",
            "_model_name": "DescriptionStyleModel",
            "description_width": "",
            "_view_module": "@jupyter-widgets/base",
            "_model_module_version": "1.5.0",
            "_view_count": null,
            "_view_module_version": "1.2.0",
            "_model_module": "@jupyter-widgets/controls"
          }
        },
        "44947602ed124272bcb5d5ce9b5208e7": {
          "model_module": "@jupyter-widgets/base",
          "model_name": "LayoutModel",
          "model_module_version": "1.2.0",
          "state": {
            "_view_name": "LayoutView",
            "grid_template_rows": null,
            "right": null,
            "justify_content": null,
            "_view_module": "@jupyter-widgets/base",
            "overflow": null,
            "_model_module_version": "1.2.0",
            "_view_count": null,
            "flex_flow": null,
            "width": null,
            "min_width": null,
            "border": null,
            "align_items": null,
            "bottom": null,
            "_model_module": "@jupyter-widgets/base",
            "top": null,
            "grid_column": null,
            "overflow_y": null,
            "overflow_x": null,
            "grid_auto_flow": null,
            "grid_area": null,
            "grid_template_columns": null,
            "flex": null,
            "_model_name": "LayoutModel",
            "justify_items": null,
            "grid_row": null,
            "max_height": null,
            "align_content": null,
            "visibility": null,
            "align_self": null,
            "height": null,
            "min_height": null,
            "padding": null,
            "grid_auto_rows": null,
            "grid_gap": null,
            "max_width": null,
            "order": null,
            "_view_module_version": "1.2.0",
            "grid_template_areas": null,
            "object_position": null,
            "object_fit": null,
            "grid_auto_columns": null,
            "margin": null,
            "display": null,
            "left": null
          }
        },
        "c62c954ad0ad44d88b617495c1cbf299": {
          "model_module": "@jupyter-widgets/controls",
          "model_name": "ProgressStyleModel",
          "model_module_version": "1.5.0",
          "state": {
            "_view_name": "StyleView",
            "_model_name": "ProgressStyleModel",
            "description_width": "",
            "_view_module": "@jupyter-widgets/base",
            "_model_module_version": "1.5.0",
            "_view_count": null,
            "_view_module_version": "1.2.0",
            "bar_color": null,
            "_model_module": "@jupyter-widgets/controls"
          }
        },
        "ac72d53439cc4b5a9ca46bee91f3caa4": {
          "model_module": "@jupyter-widgets/base",
          "model_name": "LayoutModel",
          "model_module_version": "1.2.0",
          "state": {
            "_view_name": "LayoutView",
            "grid_template_rows": null,
            "right": null,
            "justify_content": null,
            "_view_module": "@jupyter-widgets/base",
            "overflow": null,
            "_model_module_version": "1.2.0",
            "_view_count": null,
            "flex_flow": null,
            "width": null,
            "min_width": null,
            "border": null,
            "align_items": null,
            "bottom": null,
            "_model_module": "@jupyter-widgets/base",
            "top": null,
            "grid_column": null,
            "overflow_y": null,
            "overflow_x": null,
            "grid_auto_flow": null,
            "grid_area": null,
            "grid_template_columns": null,
            "flex": null,
            "_model_name": "LayoutModel",
            "justify_items": null,
            "grid_row": null,
            "max_height": null,
            "align_content": null,
            "visibility": null,
            "align_self": null,
            "height": null,
            "min_height": null,
            "padding": null,
            "grid_auto_rows": null,
            "grid_gap": null,
            "max_width": null,
            "order": null,
            "_view_module_version": "1.2.0",
            "grid_template_areas": null,
            "object_position": null,
            "object_fit": null,
            "grid_auto_columns": null,
            "margin": null,
            "display": null,
            "left": null
          }
        },
        "4d15f1aa5230476389991c125731a826": {
          "model_module": "@jupyter-widgets/controls",
          "model_name": "DescriptionStyleModel",
          "model_module_version": "1.5.0",
          "state": {
            "_view_name": "StyleView",
            "_model_name": "DescriptionStyleModel",
            "description_width": "",
            "_view_module": "@jupyter-widgets/base",
            "_model_module_version": "1.5.0",
            "_view_count": null,
            "_view_module_version": "1.2.0",
            "_model_module": "@jupyter-widgets/controls"
          }
        },
        "24b5d2c4fd4d473f820f5c23a1fc1b02": {
          "model_module": "@jupyter-widgets/base",
          "model_name": "LayoutModel",
          "model_module_version": "1.2.0",
          "state": {
            "_view_name": "LayoutView",
            "grid_template_rows": null,
            "right": null,
            "justify_content": null,
            "_view_module": "@jupyter-widgets/base",
            "overflow": null,
            "_model_module_version": "1.2.0",
            "_view_count": null,
            "flex_flow": null,
            "width": null,
            "min_width": null,
            "border": null,
            "align_items": null,
            "bottom": null,
            "_model_module": "@jupyter-widgets/base",
            "top": null,
            "grid_column": null,
            "overflow_y": null,
            "overflow_x": null,
            "grid_auto_flow": null,
            "grid_area": null,
            "grid_template_columns": null,
            "flex": null,
            "_model_name": "LayoutModel",
            "justify_items": null,
            "grid_row": null,
            "max_height": null,
            "align_content": null,
            "visibility": null,
            "align_self": null,
            "height": null,
            "min_height": null,
            "padding": null,
            "grid_auto_rows": null,
            "grid_gap": null,
            "max_width": null,
            "order": null,
            "_view_module_version": "1.2.0",
            "grid_template_areas": null,
            "object_position": null,
            "object_fit": null,
            "grid_auto_columns": null,
            "margin": null,
            "display": null,
            "left": null
          }
        },
        "17f1dc2201c244b7b254bcfd90a9d577": {
          "model_module": "@jupyter-widgets/controls",
          "model_name": "HBoxModel",
          "model_module_version": "1.5.0",
          "state": {
            "_view_name": "HBoxView",
            "_dom_classes": [],
            "_model_name": "HBoxModel",
            "_view_module": "@jupyter-widgets/controls",
            "_model_module_version": "1.5.0",
            "_view_count": null,
            "_view_module_version": "1.5.0",
            "box_style": "",
            "layout": "IPY_MODEL_9741f10b0af54282af0c880a53bfdcc8",
            "_model_module": "@jupyter-widgets/controls",
            "children": [
              "IPY_MODEL_b30261fdf9314fc9a50514dfe4353dc5",
              "IPY_MODEL_c52ada53cff7485fb36a0aa6b562e2ae",
              "IPY_MODEL_31e6e8d9f8f6477ab195d5f4b9dd37f0"
            ]
          }
        },
        "9741f10b0af54282af0c880a53bfdcc8": {
          "model_module": "@jupyter-widgets/base",
          "model_name": "LayoutModel",
          "model_module_version": "1.2.0",
          "state": {
            "_view_name": "LayoutView",
            "grid_template_rows": null,
            "right": null,
            "justify_content": null,
            "_view_module": "@jupyter-widgets/base",
            "overflow": null,
            "_model_module_version": "1.2.0",
            "_view_count": null,
            "flex_flow": null,
            "width": null,
            "min_width": null,
            "border": null,
            "align_items": null,
            "bottom": null,
            "_model_module": "@jupyter-widgets/base",
            "top": null,
            "grid_column": null,
            "overflow_y": null,
            "overflow_x": null,
            "grid_auto_flow": null,
            "grid_area": null,
            "grid_template_columns": null,
            "flex": null,
            "_model_name": "LayoutModel",
            "justify_items": null,
            "grid_row": null,
            "max_height": null,
            "align_content": null,
            "visibility": null,
            "align_self": null,
            "height": null,
            "min_height": null,
            "padding": null,
            "grid_auto_rows": null,
            "grid_gap": null,
            "max_width": null,
            "order": null,
            "_view_module_version": "1.2.0",
            "grid_template_areas": null,
            "object_position": null,
            "object_fit": null,
            "grid_auto_columns": null,
            "margin": null,
            "display": null,
            "left": null
          }
        },
        "b30261fdf9314fc9a50514dfe4353dc5": {
          "model_module": "@jupyter-widgets/controls",
          "model_name": "HTMLModel",
          "model_module_version": "1.5.0",
          "state": {
            "_view_name": "HTMLView",
            "style": "IPY_MODEL_66a52605cdd54823a8d068f75944969f",
            "_dom_classes": [],
            "description": "",
            "_model_name": "HTMLModel",
            "placeholder": "​",
            "_view_module": "@jupyter-widgets/controls",
            "_model_module_version": "1.5.0",
            "value": "100%",
            "_view_count": null,
            "_view_module_version": "1.5.0",
            "description_tooltip": null,
            "_model_module": "@jupyter-widgets/controls",
            "layout": "IPY_MODEL_b725f5def88542e090cd0c38b87734da"
          }
        },
        "c52ada53cff7485fb36a0aa6b562e2ae": {
          "model_module": "@jupyter-widgets/controls",
          "model_name": "FloatProgressModel",
          "model_module_version": "1.5.0",
          "state": {
            "_view_name": "ProgressView",
            "style": "IPY_MODEL_7f7f133a42cd49e79798f28c462e90e4",
            "_dom_classes": [],
            "description": "",
            "_model_name": "FloatProgressModel",
            "bar_style": "success",
            "max": 5,
            "_view_module": "@jupyter-widgets/controls",
            "_model_module_version": "1.5.0",
            "value": 5,
            "_view_count": null,
            "_view_module_version": "1.5.0",
            "orientation": "horizontal",
            "min": 0,
            "description_tooltip": null,
            "_model_module": "@jupyter-widgets/controls",
            "layout": "IPY_MODEL_0f1aa0c3c91640ea8384c010a927a6c3"
          }
        },
        "31e6e8d9f8f6477ab195d5f4b9dd37f0": {
          "model_module": "@jupyter-widgets/controls",
          "model_name": "HTMLModel",
          "model_module_version": "1.5.0",
          "state": {
            "_view_name": "HTMLView",
            "style": "IPY_MODEL_491a68b648fa435da7f23873cf97ae25",
            "_dom_classes": [],
            "description": "",
            "_model_name": "HTMLModel",
            "placeholder": "​",
            "_view_module": "@jupyter-widgets/controls",
            "_model_module_version": "1.5.0",
            "value": " 5/5 [47:49&lt;00:00, 574.00s/it]",
            "_view_count": null,
            "_view_module_version": "1.5.0",
            "description_tooltip": null,
            "_model_module": "@jupyter-widgets/controls",
            "layout": "IPY_MODEL_87f25cda57464395ab2dc3f8d8499698"
          }
        },
        "66a52605cdd54823a8d068f75944969f": {
          "model_module": "@jupyter-widgets/controls",
          "model_name": "DescriptionStyleModel",
          "model_module_version": "1.5.0",
          "state": {
            "_view_name": "StyleView",
            "_model_name": "DescriptionStyleModel",
            "description_width": "",
            "_view_module": "@jupyter-widgets/base",
            "_model_module_version": "1.5.0",
            "_view_count": null,
            "_view_module_version": "1.2.0",
            "_model_module": "@jupyter-widgets/controls"
          }
        },
        "b725f5def88542e090cd0c38b87734da": {
          "model_module": "@jupyter-widgets/base",
          "model_name": "LayoutModel",
          "model_module_version": "1.2.0",
          "state": {
            "_view_name": "LayoutView",
            "grid_template_rows": null,
            "right": null,
            "justify_content": null,
            "_view_module": "@jupyter-widgets/base",
            "overflow": null,
            "_model_module_version": "1.2.0",
            "_view_count": null,
            "flex_flow": null,
            "width": null,
            "min_width": null,
            "border": null,
            "align_items": null,
            "bottom": null,
            "_model_module": "@jupyter-widgets/base",
            "top": null,
            "grid_column": null,
            "overflow_y": null,
            "overflow_x": null,
            "grid_auto_flow": null,
            "grid_area": null,
            "grid_template_columns": null,
            "flex": null,
            "_model_name": "LayoutModel",
            "justify_items": null,
            "grid_row": null,
            "max_height": null,
            "align_content": null,
            "visibility": null,
            "align_self": null,
            "height": null,
            "min_height": null,
            "padding": null,
            "grid_auto_rows": null,
            "grid_gap": null,
            "max_width": null,
            "order": null,
            "_view_module_version": "1.2.0",
            "grid_template_areas": null,
            "object_position": null,
            "object_fit": null,
            "grid_auto_columns": null,
            "margin": null,
            "display": null,
            "left": null
          }
        },
        "7f7f133a42cd49e79798f28c462e90e4": {
          "model_module": "@jupyter-widgets/controls",
          "model_name": "ProgressStyleModel",
          "model_module_version": "1.5.0",
          "state": {
            "_view_name": "StyleView",
            "_model_name": "ProgressStyleModel",
            "description_width": "",
            "_view_module": "@jupyter-widgets/base",
            "_model_module_version": "1.5.0",
            "_view_count": null,
            "_view_module_version": "1.2.0",
            "bar_color": null,
            "_model_module": "@jupyter-widgets/controls"
          }
        },
        "0f1aa0c3c91640ea8384c010a927a6c3": {
          "model_module": "@jupyter-widgets/base",
          "model_name": "LayoutModel",
          "model_module_version": "1.2.0",
          "state": {
            "_view_name": "LayoutView",
            "grid_template_rows": null,
            "right": null,
            "justify_content": null,
            "_view_module": "@jupyter-widgets/base",
            "overflow": null,
            "_model_module_version": "1.2.0",
            "_view_count": null,
            "flex_flow": null,
            "width": null,
            "min_width": null,
            "border": null,
            "align_items": null,
            "bottom": null,
            "_model_module": "@jupyter-widgets/base",
            "top": null,
            "grid_column": null,
            "overflow_y": null,
            "overflow_x": null,
            "grid_auto_flow": null,
            "grid_area": null,
            "grid_template_columns": null,
            "flex": null,
            "_model_name": "LayoutModel",
            "justify_items": null,
            "grid_row": null,
            "max_height": null,
            "align_content": null,
            "visibility": null,
            "align_self": null,
            "height": null,
            "min_height": null,
            "padding": null,
            "grid_auto_rows": null,
            "grid_gap": null,
            "max_width": null,
            "order": null,
            "_view_module_version": "1.2.0",
            "grid_template_areas": null,
            "object_position": null,
            "object_fit": null,
            "grid_auto_columns": null,
            "margin": null,
            "display": null,
            "left": null
          }
        },
        "491a68b648fa435da7f23873cf97ae25": {
          "model_module": "@jupyter-widgets/controls",
          "model_name": "DescriptionStyleModel",
          "model_module_version": "1.5.0",
          "state": {
            "_view_name": "StyleView",
            "_model_name": "DescriptionStyleModel",
            "description_width": "",
            "_view_module": "@jupyter-widgets/base",
            "_model_module_version": "1.5.0",
            "_view_count": null,
            "_view_module_version": "1.2.0",
            "_model_module": "@jupyter-widgets/controls"
          }
        },
        "87f25cda57464395ab2dc3f8d8499698": {
          "model_module": "@jupyter-widgets/base",
          "model_name": "LayoutModel",
          "model_module_version": "1.2.0",
          "state": {
            "_view_name": "LayoutView",
            "grid_template_rows": null,
            "right": null,
            "justify_content": null,
            "_view_module": "@jupyter-widgets/base",
            "overflow": null,
            "_model_module_version": "1.2.0",
            "_view_count": null,
            "flex_flow": null,
            "width": null,
            "min_width": null,
            "border": null,
            "align_items": null,
            "bottom": null,
            "_model_module": "@jupyter-widgets/base",
            "top": null,
            "grid_column": null,
            "overflow_y": null,
            "overflow_x": null,
            "grid_auto_flow": null,
            "grid_area": null,
            "grid_template_columns": null,
            "flex": null,
            "_model_name": "LayoutModel",
            "justify_items": null,
            "grid_row": null,
            "max_height": null,
            "align_content": null,
            "visibility": null,
            "align_self": null,
            "height": null,
            "min_height": null,
            "padding": null,
            "grid_auto_rows": null,
            "grid_gap": null,
            "max_width": null,
            "order": null,
            "_view_module_version": "1.2.0",
            "grid_template_areas": null,
            "object_position": null,
            "object_fit": null,
            "grid_auto_columns": null,
            "margin": null,
            "display": null,
            "left": null
          }
        },
        "d63570eac64d48409060b89cee30e7ac": {
          "model_module": "@jupyter-widgets/controls",
          "model_name": "HBoxModel",
          "model_module_version": "1.5.0",
          "state": {
            "_view_name": "HBoxView",
            "_dom_classes": [],
            "_model_name": "HBoxModel",
            "_view_module": "@jupyter-widgets/controls",
            "_model_module_version": "1.5.0",
            "_view_count": null,
            "_view_module_version": "1.5.0",
            "box_style": "",
            "layout": "IPY_MODEL_e0dfd7ae3e534b069710c431c2ae617a",
            "_model_module": "@jupyter-widgets/controls",
            "children": [
              "IPY_MODEL_b763c1b286724f1c8feda9755b768fcd",
              "IPY_MODEL_dd2f2918dd354003a3a1e1544d124ffc",
              "IPY_MODEL_59d697cdd47d4fc5a86f8b6c73dcdbde"
            ]
          }
        },
        "e0dfd7ae3e534b069710c431c2ae617a": {
          "model_module": "@jupyter-widgets/base",
          "model_name": "LayoutModel",
          "model_module_version": "1.2.0",
          "state": {
            "_view_name": "LayoutView",
            "grid_template_rows": null,
            "right": null,
            "justify_content": null,
            "_view_module": "@jupyter-widgets/base",
            "overflow": null,
            "_model_module_version": "1.2.0",
            "_view_count": null,
            "flex_flow": null,
            "width": null,
            "min_width": null,
            "border": null,
            "align_items": null,
            "bottom": null,
            "_model_module": "@jupyter-widgets/base",
            "top": null,
            "grid_column": null,
            "overflow_y": null,
            "overflow_x": null,
            "grid_auto_flow": null,
            "grid_area": null,
            "grid_template_columns": null,
            "flex": null,
            "_model_name": "LayoutModel",
            "justify_items": null,
            "grid_row": null,
            "max_height": null,
            "align_content": null,
            "visibility": null,
            "align_self": null,
            "height": null,
            "min_height": null,
            "padding": null,
            "grid_auto_rows": null,
            "grid_gap": null,
            "max_width": null,
            "order": null,
            "_view_module_version": "1.2.0",
            "grid_template_areas": null,
            "object_position": null,
            "object_fit": null,
            "grid_auto_columns": null,
            "margin": null,
            "display": null,
            "left": null
          }
        },
        "b763c1b286724f1c8feda9755b768fcd": {
          "model_module": "@jupyter-widgets/controls",
          "model_name": "HTMLModel",
          "model_module_version": "1.5.0",
          "state": {
            "_view_name": "HTMLView",
            "style": "IPY_MODEL_916f2175945540f8a3920212864ee612",
            "_dom_classes": [],
            "description": "",
            "_model_name": "HTMLModel",
            "placeholder": "​",
            "_view_module": "@jupyter-widgets/controls",
            "_model_module_version": "1.5.0",
            "value": "100%",
            "_view_count": null,
            "_view_module_version": "1.5.0",
            "description_tooltip": null,
            "_model_module": "@jupyter-widgets/controls",
            "layout": "IPY_MODEL_f783323b379349b596b8ae3d43852e18"
          }
        },
        "dd2f2918dd354003a3a1e1544d124ffc": {
          "model_module": "@jupyter-widgets/controls",
          "model_name": "FloatProgressModel",
          "model_module_version": "1.5.0",
          "state": {
            "_view_name": "ProgressView",
            "style": "IPY_MODEL_1f19f0e5940f4e45825412169bd4c8b1",
            "_dom_classes": [],
            "description": "",
            "_model_name": "FloatProgressModel",
            "bar_style": "success",
            "max": 50,
            "_view_module": "@jupyter-widgets/controls",
            "_model_module_version": "1.5.0",
            "value": 50,
            "_view_count": null,
            "_view_module_version": "1.5.0",
            "orientation": "horizontal",
            "min": 0,
            "description_tooltip": null,
            "_model_module": "@jupyter-widgets/controls",
            "layout": "IPY_MODEL_a6960dfaa4824795aa7d6ba52ce01ae5"
          }
        },
        "59d697cdd47d4fc5a86f8b6c73dcdbde": {
          "model_module": "@jupyter-widgets/controls",
          "model_name": "HTMLModel",
          "model_module_version": "1.5.0",
          "state": {
            "_view_name": "HTMLView",
            "style": "IPY_MODEL_2051586412f7438bb9dd937bf32bf9d6",
            "_dom_classes": [],
            "description": "",
            "_model_name": "HTMLModel",
            "placeholder": "​",
            "_view_module": "@jupyter-widgets/controls",
            "_model_module_version": "1.5.0",
            "value": " 50/50 [09:22&lt;00:00, 11.30s/it]",
            "_view_count": null,
            "_view_module_version": "1.5.0",
            "description_tooltip": null,
            "_model_module": "@jupyter-widgets/controls",
            "layout": "IPY_MODEL_c486da18656f42abb58511ee042ba609"
          }
        },
        "916f2175945540f8a3920212864ee612": {
          "model_module": "@jupyter-widgets/controls",
          "model_name": "DescriptionStyleModel",
          "model_module_version": "1.5.0",
          "state": {
            "_view_name": "StyleView",
            "_model_name": "DescriptionStyleModel",
            "description_width": "",
            "_view_module": "@jupyter-widgets/base",
            "_model_module_version": "1.5.0",
            "_view_count": null,
            "_view_module_version": "1.2.0",
            "_model_module": "@jupyter-widgets/controls"
          }
        },
        "f783323b379349b596b8ae3d43852e18": {
          "model_module": "@jupyter-widgets/base",
          "model_name": "LayoutModel",
          "model_module_version": "1.2.0",
          "state": {
            "_view_name": "LayoutView",
            "grid_template_rows": null,
            "right": null,
            "justify_content": null,
            "_view_module": "@jupyter-widgets/base",
            "overflow": null,
            "_model_module_version": "1.2.0",
            "_view_count": null,
            "flex_flow": null,
            "width": null,
            "min_width": null,
            "border": null,
            "align_items": null,
            "bottom": null,
            "_model_module": "@jupyter-widgets/base",
            "top": null,
            "grid_column": null,
            "overflow_y": null,
            "overflow_x": null,
            "grid_auto_flow": null,
            "grid_area": null,
            "grid_template_columns": null,
            "flex": null,
            "_model_name": "LayoutModel",
            "justify_items": null,
            "grid_row": null,
            "max_height": null,
            "align_content": null,
            "visibility": null,
            "align_self": null,
            "height": null,
            "min_height": null,
            "padding": null,
            "grid_auto_rows": null,
            "grid_gap": null,
            "max_width": null,
            "order": null,
            "_view_module_version": "1.2.0",
            "grid_template_areas": null,
            "object_position": null,
            "object_fit": null,
            "grid_auto_columns": null,
            "margin": null,
            "display": null,
            "left": null
          }
        },
        "1f19f0e5940f4e45825412169bd4c8b1": {
          "model_module": "@jupyter-widgets/controls",
          "model_name": "ProgressStyleModel",
          "model_module_version": "1.5.0",
          "state": {
            "_view_name": "StyleView",
            "_model_name": "ProgressStyleModel",
            "description_width": "",
            "_view_module": "@jupyter-widgets/base",
            "_model_module_version": "1.5.0",
            "_view_count": null,
            "_view_module_version": "1.2.0",
            "bar_color": null,
            "_model_module": "@jupyter-widgets/controls"
          }
        },
        "a6960dfaa4824795aa7d6ba52ce01ae5": {
          "model_module": "@jupyter-widgets/base",
          "model_name": "LayoutModel",
          "model_module_version": "1.2.0",
          "state": {
            "_view_name": "LayoutView",
            "grid_template_rows": null,
            "right": null,
            "justify_content": null,
            "_view_module": "@jupyter-widgets/base",
            "overflow": null,
            "_model_module_version": "1.2.0",
            "_view_count": null,
            "flex_flow": null,
            "width": null,
            "min_width": null,
            "border": null,
            "align_items": null,
            "bottom": null,
            "_model_module": "@jupyter-widgets/base",
            "top": null,
            "grid_column": null,
            "overflow_y": null,
            "overflow_x": null,
            "grid_auto_flow": null,
            "grid_area": null,
            "grid_template_columns": null,
            "flex": null,
            "_model_name": "LayoutModel",
            "justify_items": null,
            "grid_row": null,
            "max_height": null,
            "align_content": null,
            "visibility": null,
            "align_self": null,
            "height": null,
            "min_height": null,
            "padding": null,
            "grid_auto_rows": null,
            "grid_gap": null,
            "max_width": null,
            "order": null,
            "_view_module_version": "1.2.0",
            "grid_template_areas": null,
            "object_position": null,
            "object_fit": null,
            "grid_auto_columns": null,
            "margin": null,
            "display": null,
            "left": null
          }
        },
        "2051586412f7438bb9dd937bf32bf9d6": {
          "model_module": "@jupyter-widgets/controls",
          "model_name": "DescriptionStyleModel",
          "model_module_version": "1.5.0",
          "state": {
            "_view_name": "StyleView",
            "_model_name": "DescriptionStyleModel",
            "description_width": "",
            "_view_module": "@jupyter-widgets/base",
            "_model_module_version": "1.5.0",
            "_view_count": null,
            "_view_module_version": "1.2.0",
            "_model_module": "@jupyter-widgets/controls"
          }
        },
        "c486da18656f42abb58511ee042ba609": {
          "model_module": "@jupyter-widgets/base",
          "model_name": "LayoutModel",
          "model_module_version": "1.2.0",
          "state": {
            "_view_name": "LayoutView",
            "grid_template_rows": null,
            "right": null,
            "justify_content": null,
            "_view_module": "@jupyter-widgets/base",
            "overflow": null,
            "_model_module_version": "1.2.0",
            "_view_count": null,
            "flex_flow": null,
            "width": null,
            "min_width": null,
            "border": null,
            "align_items": null,
            "bottom": null,
            "_model_module": "@jupyter-widgets/base",
            "top": null,
            "grid_column": null,
            "overflow_y": null,
            "overflow_x": null,
            "grid_auto_flow": null,
            "grid_area": null,
            "grid_template_columns": null,
            "flex": null,
            "_model_name": "LayoutModel",
            "justify_items": null,
            "grid_row": null,
            "max_height": null,
            "align_content": null,
            "visibility": null,
            "align_self": null,
            "height": null,
            "min_height": null,
            "padding": null,
            "grid_auto_rows": null,
            "grid_gap": null,
            "max_width": null,
            "order": null,
            "_view_module_version": "1.2.0",
            "grid_template_areas": null,
            "object_position": null,
            "object_fit": null,
            "grid_auto_columns": null,
            "margin": null,
            "display": null,
            "left": null
          }
        }
      }
    }
  },
  "cells": [
    {
      "cell_type": "markdown",
      "metadata": {
        "id": "oJA4ZgPLC8zE"
      },
      "source": [
        "# Advanced DL and RL: Домашнее задание 1"
      ]
    },
    {
      "cell_type": "markdown",
      "metadata": {
        "id": "86AexzsMC8zJ"
      },
      "source": [
        "Первое ДЗ связано с обучением с подкреплением, и оно придумано для ситуации, когда нейронные сети ещё не нужны, и пространство состояний в целом достаточно маленькое, чтобы можно было обучить хорошую стратегию методами TD-обучения или другими методами обучения с подкреплением. Задание получилось, надеюсь, интересное, но в том числе и достаточно техническое, так что для решения придётся немножко попрограммировать. Поэтому в качестве решения ожидается ссылка на jupyter-ноутбук на вашем github (или публичный, или с доступом для snikolenko); ссылку обязательно нужно прислать в виде сданного домашнего задания на портале Академии. Любые комментарии, новые идеи и рассуждения на тему, как всегда, категорически приветствуются.\n"
      ]
    },
    {
      "cell_type": "markdown",
      "metadata": {
        "id": "h44qqCN3C8zJ"
      },
      "source": [
        "## Часть первая, с блекджеком и стратегиями"
      ]
    },
    {
      "cell_type": "markdown",
      "metadata": {
        "id": "Y0_G1iEbC8zK"
      },
      "source": [
        "Мы будем обучаться играть в очень простую, но всё-таки знаменитую и популярную игру: блекджек. Правила блекджека достаточно просты; давайте начнём с самой базовой версии, которая реализована в OpenAI Gym:\n",
        "        \n",
        "* численные значения карт равны от 2 до 10 для карт от двойки до десятки, 10 для валетов, дам и королей;\n",
        "* туз считается за 11 очков, если общая сумма карт на руке при этом не превосходит 21 (по-английски в этом случае говорят, что на руке есть usable ace), и за 1 очко, если превосходит;\n",
        "* игроку раздаются две карты, дилеру — одна в открытую и одна в закрытую;\n",
        "* игрок может совершать одно из двух действий:\n",
        "* hit  — взять ещё одну карту;\n",
        "* stand — не брать больше карт;\n",
        "* если сумма очков у игрока на руках больше 21, он проигрывает (bust);\n",
        "* если игрок выбирает stand с суммой не больше 21, дилер добирает карты, пока сумма карт в его руке меньше 17;\n",
        "после этого игрок выигрывает, если дилер либо превышает 21, либо получает сумму очков меньше, чем сумма очков у игрока; при равенстве очков объявляется ничья (ставка возвращается);\n",
        "* в исходных правилах есть ещё дополнительный бонус за natural blackjack: если игрок набирает 21 очко с раздачи, двумя картами, он выигрывает не +1, а +1.5 (полторы ставки).\n",
        "\n",
        "\n",
        "Именно этот простейший вариант блекджека реализован в OpenAI Gym:\n",
        "https://github.com/openai/gym/blob/38a1f630dc9815a567aaf299ae5844c8f8b9a6fa/gym/envs/toy_text/blackjack.py\n"
      ]
    },
    {
      "cell_type": "markdown",
      "metadata": {
        "id": "kuMvSDjhC8zL"
      },
      "source": [
        "#### 1. Рассмотрим очень простую стратегию: говорить stand, если у нас на руках комбинация в 19, 20 или 21 очко, во всех остальных случаях говорить hit. Используйте методы Монте-Карло, чтобы оценить выигрыш от этой стратегии."
      ]
    },
    {
      "cell_type": "code",
      "metadata": {
        "id": "ZtxNiNR3C8zL"
      },
      "source": [
        "import gym\n",
        "env = gym.make('Blackjack-v0', natural=True)\n",
        "import matplotlib.pyplot as plt\n",
        "import numpy as np\n",
        "from tqdm.notebook import tqdm"
      ],
      "execution_count": 1,
      "outputs": []
    },
    {
      "cell_type": "code",
      "metadata": {
        "colab": {
          "base_uri": "https://localhost:8080/",
          "height": 66,
          "referenced_widgets": [
            "a2466a8c73cc48209a18189b722eaf83",
            "21ae41c5c20745098e366440ff133524",
            "f948b0316f014753affbbd998d3bd4a0",
            "21a15e1555de4ec9ae47134b2e571023",
            "4a8a26f951da423c84d6b2c20a261c5a",
            "f92cfc2571cc43118589d01b05df3ad1",
            "7214f0961f4d44308e99fe0631473cc3",
            "3001b87b397343c4b5f1d655270168f8",
            "322de59c426b4a35bdb5b08a6a8d3bcf",
            "af88032978594d4b80073178f51721e3",
            "c1dbfb9a06be4d2b9b4cb73e8cc9e936"
          ]
        },
        "id": "2FY4KEQuC8zN",
        "outputId": "c5c730b5-623b-442b-ac7f-9456fb19d476"
      },
      "source": [
        "episodes = 1000000\n",
        "avg_reward = 0\n",
        "\n",
        "def simplest_policy(state):\n",
        "    if state[0] >= 19: \n",
        "        return 0\n",
        "    else:\n",
        "        return 1\n",
        "    \n",
        "    \n",
        "for i in tqdm(range(episodes)):\n",
        "    state = env.reset()\n",
        "    is_done = False\n",
        "    while not is_done:\n",
        "        action = simplest_policy(state)\n",
        "        state, reward, is_done, _ = env.step(action)\n",
        "    avg_reward += (reward - avg_reward) / (i + 1)\n",
        "    \n",
        "print(f\"Средний выигрыш от самой простой стратегии: {avg_reward}\")"
      ],
      "execution_count": 2,
      "outputs": [
        {
          "output_type": "display_data",
          "data": {
            "application/vnd.jupyter.widget-view+json": {
              "model_id": "a2466a8c73cc48209a18189b722eaf83",
              "version_minor": 0,
              "version_major": 2
            },
            "text/plain": [
              "  0%|          | 0/1000000 [00:00<?, ?it/s]"
            ]
          },
          "metadata": {}
        },
        {
          "output_type": "stream",
          "name": "stdout",
          "text": [
            "Средний выигрыш от самой простой стратегии: -0.1803660000000053\n"
          ]
        }
      ]
    },
    {
      "cell_type": "markdown",
      "metadata": {
        "id": "S0s9zK9yC8zN"
      },
      "source": [
        "#### 2. Реализуйте метод обучения с подкреплением без модели (можно Q-обучение, но рекомендую попробовать и другие, например Monte Carlo control) для обучения стратегии в блекджеке, используя окружение Blackjack-v0 из OpenAI Gym."
      ]
    },
    {
      "cell_type": "markdown",
      "metadata": {
        "id": "p93oYgkRC8zO"
      },
      "source": [
        "####  Q-обучение"
      ]
    },
    {
      "cell_type": "code",
      "metadata": {
        "id": "_REdKgOOC8zO"
      },
      "source": [
        "class Qlearning:\n",
        "    def __init__(self, alpha=0.00001, gamma=1, eps=0.1):\n",
        "        self.Q = {}\n",
        "        self.alpha = alpha\n",
        "        self.gamma = gamma\n",
        "        self.eps = eps\n",
        "        \n",
        "        env == 'Blackjack-v0'\n",
        "        self.env = gym.make('Blackjack-v0', natural=True)\n",
        "        self.na = self.env.action_space.n\n",
        "        self.action_space = list(range(self.na))\n",
        "    \n",
        "    def get_rewards(self, state):\n",
        "        if state not in self.Q.keys():\n",
        "            self.Q[state] = np.zeros(self.na)\n",
        "        return self.Q[state]\n",
        "    \n",
        "    def get_next_action(self, state):\n",
        "        rewards = self.get_rewards(state)\n",
        "        return np.argmax(rewards)\n",
        "    \n",
        "    def epsilon_greedy_policy(self, state):\n",
        "        if np.random.rand() < self.eps:\n",
        "            action = np.random.choice(self.action_space)\n",
        "        else:\n",
        "            action = self.get_next_action(state)\n",
        "        return action\n",
        "            \n",
        "    def run_episode(self):\n",
        "        state = self.env.reset()\n",
        "        done = False\n",
        "        steps = []\n",
        "        while not done:\n",
        "            action = self.epsilon_greedy_policy(state)\n",
        "            steps.append((state, action))\n",
        "            state, reward, done, _ = self.env.step(action)\n",
        "        return steps, reward\n",
        "    \n",
        "    def train(self, episodes=100000):\n",
        "        for n in range(episodes):\n",
        "            steps, reward = self.run_episode()\n",
        "            for state, action in steps[::-1]:\n",
        "                reward = self.get_rewards(state)[action] + self.alpha * (reward + self.gamma * np.max(self.Q[state]) - self.get_rewards(state)[action])\n",
        "                self.Q[state][action] = reward\n",
        "    \n",
        "    def inference(self, episodes=100000):\n",
        "        avg_reward = 0\n",
        "        for i in range(episodes):\n",
        "            state = self.env.reset()\n",
        "            is_done = False\n",
        "            while not is_done:\n",
        "                action = self.get_next_action(state)\n",
        "                state, reward, is_done, _ = self.env.step(action)\n",
        "            avg_reward += (reward - avg_reward) / (i + 1)\n",
        "        return avg_reward"
      ],
      "execution_count": 2,
      "outputs": []
    },
    {
      "cell_type": "code",
      "metadata": {
        "colab": {
          "base_uri": "https://localhost:8080/",
          "height": 81,
          "referenced_widgets": [
            "6d262a91bb47454fb61ce23fc41c8359",
            "9b69534bda6e431c99d62e5db89f0806",
            "1d06481872a0403f8770943afebc62c6",
            "7d74c0876cb2409eb255b2a2653be21e",
            "0c1c3592a067415b81a6537bbcd7bcd0",
            "84971cb953554316bc58e81714373b62",
            "4efc8e4176e344d29a80f9965c2a65b0",
            "bb707c9bebe94aac8cc27e50bd22b965",
            "38a9d4230221461fa7f7705c73dc180f",
            "ffa2fa667d704f19a20d79658130944e",
            "b78894a842784c13997fe7d13b30e58d",
            "e7cb6c821f5b4d85b100f1bf635101b7",
            "1e786a503c7f409bbc0d71d2ede28ec1",
            "5ca5fa6f7795486ea38331b01b551291",
            "53c3737dbf19437fb366e64a7cfeb4c5",
            "75290ecb498643cc9154630b8febe5c1",
            "f21f738c722e4ff4a48917392a25846b",
            "15d090e74ae24b9dad0c20cb812846d8",
            "a3886ca35bf1457ebc3151c7ea6f94b6",
            "15b7e08f860c460fbcf9ecdfc6bb6bf6",
            "75b2c6759fbc4c69bf9ffea9c5ad93ef",
            "306a19a45df44ef3a93e5a637c721863"
          ]
        },
        "id": "k2fqnMcoC8zP",
        "outputId": "ed9afc55-b704-4eba-ee59-964f763056e4"
      },
      "source": [
        "q_learn = Qlearning()\n",
        "q_learn.train(episodes=1000000)\n",
        "avg_reward = q_learn.inference(episodes=100000)"
      ],
      "execution_count": 7,
      "outputs": [
        {
          "output_type": "display_data",
          "data": {
            "application/vnd.jupyter.widget-view+json": {
              "model_id": "6d262a91bb47454fb61ce23fc41c8359",
              "version_minor": 0,
              "version_major": 2
            },
            "text/plain": [
              "  0%|          | 0/1000000 [00:00<?, ?it/s]"
            ]
          },
          "metadata": {}
        },
        {
          "output_type": "display_data",
          "data": {
            "application/vnd.jupyter.widget-view+json": {
              "model_id": "e7cb6c821f5b4d85b100f1bf635101b7",
              "version_minor": 0,
              "version_major": 2
            },
            "text/plain": [
              "  0%|          | 0/100000 [00:00<?, ?it/s]"
            ]
          },
          "metadata": {}
        }
      ]
    },
    {
      "cell_type": "code",
      "metadata": {
        "colab": {
          "base_uri": "https://localhost:8080/"
        },
        "id": "uWVj7kZHC8zQ",
        "outputId": "d617efa6-ccfb-4b71-aafc-f585517e6c0c"
      },
      "source": [
        "print(f\"Средний выигрыш Q-learning: {avg_reward}\")"
      ],
      "execution_count": 9,
      "outputs": [
        {
          "output_type": "stream",
          "name": "stdout",
          "text": [
            "Средний выигрыш Q-learning: -0.04901999999999985\n"
          ]
        }
      ]
    },
    {
      "cell_type": "markdown",
      "metadata": {
        "id": "4zj3GNHwC8zQ"
      },
      "source": [
        "#### Monte Carlo control"
      ]
    },
    {
      "cell_type": "code",
      "metadata": {
        "id": "Hbhhu1fVC8zQ"
      },
      "source": [
        "from collections import defaultdict\n",
        "import random\n",
        "def get_epsilon(N_state_count, N_zero=100):\n",
        "    return N_zero / (N_zero + N_state_count)\n",
        "\n",
        "def get_action(Q, state, state_count, action_size):\n",
        "    random_action = random.randint(0, action_size - 1)\n",
        "    best_action = np.argmax(Q[state])\n",
        "    epsilon = get_epsilon(state_count)\n",
        "    return np.random.choice([best_action, random_action], p=[1. - epsilon, epsilon])\n",
        "\n",
        "def MC_inference(Q, episodes=100000):\n",
        "    avg_reward = 0\n",
        "    for i in range(episodes):\n",
        "        state = env.reset()\n",
        "        is_done = False\n",
        "        while not is_done:\n",
        "            action = np.argmax(Q[state])\n",
        "            state, reward, is_done, _ = env.step(action)\n",
        "        avg_reward += (reward - avg_reward) / (i + 1)\n",
        "    return avg_reward\n",
        "\n",
        "\n",
        "def evaluate_policy(Q, episodes=10000):\n",
        "    wins = 0\n",
        "    for _ in range(episodes):\n",
        "        state = env.reset()\n",
        "        done = False\n",
        "        while not done:\n",
        "            action = np.argmax(Q[state])\n",
        "            state, reward, done, _ = env.step(action=action)\n",
        "        if reward > 0:\n",
        "            wins += 1\n",
        "    return wins / episodes\n",
        "\n",
        "def monte_carlo(gamma=1., episodes=5000, evaluate=False):\n",
        "    Q = defaultdict(lambda: np.zeros(env.action_space.n))\n",
        "    state_count = defaultdict(float)\n",
        "    state_action_count = defaultdict(float)\n",
        "    \n",
        "    evaluations = []\n",
        "    for i in range(episodes):\n",
        "        if evaluate and i % 1000 == 0:\n",
        "            evaluations.append(evaluate_policy(Q))\n",
        "        episode = []\n",
        "        state = env.reset()\n",
        "        done = False\n",
        "        while not done:\n",
        "            state_count[state] += 1\n",
        "            action = get_action(Q, state, state_count[state], env.action_space.n)\n",
        "            new_state, reward, done, _ = env.step(action=action)\n",
        "            episode.append((state, action, reward))\n",
        "            state = new_state\n",
        "        G = 0\n",
        "        for s, a, r in reversed(episode):\n",
        "            new_s_a_count = state_action_count[(s, a)] + 1\n",
        "            G = r + gamma * G\n",
        "            state_action_count[(s, a)] = new_s_a_count\n",
        "            Q[s][a] = Q[s][a] + (G - Q[s][a]) / new_s_a_count\n",
        "    return Q, evaluations"
      ],
      "execution_count": 3,
      "outputs": []
    },
    {
      "cell_type": "code",
      "metadata": {
        "colab": {
          "base_uri": "https://localhost:8080/"
        },
        "id": "KKKu2bscC8zR",
        "outputId": "19148a41-ce74-40e7-a470-bf1fa064110f"
      },
      "source": [
        "Q_mc, evaluations = monte_carlo(episodes=1000000)\n",
        "avg_reward = MC_inference(Q_mc, episodes=100000)\n",
        "print(f\"Средний выигрыш Монте-Карло: {avg_reward}\")"
      ],
      "execution_count": 11,
      "outputs": [
        {
          "output_type": "stream",
          "name": "stdout",
          "text": [
            "Средний выигрыш Монте-Карло: -0.025859999999999668\n"
          ]
        }
      ]
    },
    {
      "cell_type": "markdown",
      "metadata": {
        "id": "QhSz0_JKm6kG"
      },
      "source": [
        "Монте-Карло более убедительный"
      ]
    },
    {
      "cell_type": "markdown",
      "metadata": {
        "id": "AkUFTpxYC8zR"
      },
      "source": [
        "#### 3. Сколько выигрывает казино у вашей стратегии? Нарисуйте графики среднего дохода вашего метода (усреднённого по крайней мере по 100000 раздач, а лучше больше) по ходу обучения. Попробуйте подобрать оптимальные гиперпараметры."
      ]
    },
    {
      "cell_type": "markdown",
      "metadata": {
        "id": "e6VfoDRTC8zS"
      },
      "source": [
        "#### Grid search"
      ]
    },
    {
      "cell_type": "code",
      "metadata": {
        "colab": {
          "base_uri": "https://localhost:8080/",
          "height": 100,
          "referenced_widgets": [
            "7160cdd8765f47ed86c1cb1bd05bcba4",
            "1b5d6a097db3495a983f22622f3ef46f",
            "90c08fbec2e447afa7fab83006978b60",
            "5e0b89af39c14a9aa54bc35d550862cc",
            "cbc342a3b8ca416f8bba6f6dbc906f66",
            "9435823b5ba441ec8b545e373568549f",
            "0e6f37b8ce2e4e6b819637a23a043fdd",
            "667de5cbf3cf487087390dee5155095d",
            "42f1a5d294af41c69ff4e95506f1bc27",
            "7a5b6829f798482da938ff29b239a76d",
            "e134e95e90be41c1b17b85997c01591b"
          ]
        },
        "collapsed": true,
        "id": "LD1KXxMHC8zS",
        "outputId": "e362833e-03ba-46de-f99b-ccf041e0474b"
      },
      "source": [
        "%%time\n",
        "best_sum_of_rewards = -0.18 # нужно лучше\n",
        "best_alpha = 0\n",
        "best_eps = 0\n",
        "for alpha in tqdm(np.linspace(0.00001, 0.01, 15)):\n",
        "    for eps in np.linspace(0.05, 0.5, 15):\n",
        "        QL = Qlearning(alpha=alpha, eps=eps)\n",
        "        QL.train(10000)\n",
        "        sum_of_rewards = QL.inference()\n",
        "        if sum_of_rewards > best_sum_of_rewards:\n",
        "            best_sum_of_rewards = sum_of_rewards\n",
        "            best_alpha = alpha\n",
        "            best_eps = eps\n",
        "\n",
        "print(f\"Лучший выигрыш: {best_sum_of_rewards}, alpha: {best_alpha}, eps: {best_eps}\")"
      ],
      "execution_count": 13,
      "outputs": [
        {
          "output_type": "display_data",
          "data": {
            "application/vnd.jupyter.widget-view+json": {
              "model_id": "7160cdd8765f47ed86c1cb1bd05bcba4",
              "version_minor": 0,
              "version_major": 2
            },
            "text/plain": [
              "  0%|          | 0/15 [00:00<?, ?it/s]"
            ]
          },
          "metadata": {}
        },
        {
          "output_type": "stream",
          "name": "stdout",
          "text": [
            "Лучший выигрыш: -0.04266499999999998, alpha: 0.0014371428571428573, eps: 0.30714285714285716\n",
            "CPU times: user 39min 58s, sys: 4min 1s, total: 44min\n",
            "Wall time: 37min 33s\n"
          ]
        }
      ]
    },
    {
      "cell_type": "markdown",
      "metadata": {
        "id": "lnWVHmgZtN6j"
      },
      "source": [
        "Грид сёрч немного улучшил выигрыш"
      ]
    },
    {
      "cell_type": "markdown",
      "metadata": {
        "id": "Vnf-uC-MrNl7"
      },
      "source": [
        "### plot"
      ]
    },
    {
      "cell_type": "code",
      "metadata": {
        "colab": {
          "base_uri": "https://localhost:8080/",
          "height": 83,
          "referenced_widgets": [
            "9e6c677cdefd41a0b10f9bd44e1e1e5f",
            "92d2a10b5f394ac2adea3b5e3099f815",
            "d09a5898bf154ca68c7b162d939f7897",
            "dfa711a04cec4bfbae59c355d358524a",
            "ede010f1ed0b488eb70b53c1b67d70be",
            "6e93ced078b94a16910442b1c36bff92",
            "de5f3d6ec3d9432099bd9cfee030559c",
            "522e04006b7b4e85ae84d2634163ed86",
            "4743a3aea35542498ea6eedd58cbb749",
            "8cfe8d1caa1d4c50ad69d8015e728745",
            "5d7684620da84e3cb3e0590ac4cff4a9"
          ]
        },
        "collapsed": true,
        "id": "WvQFn17FC8zT",
        "outputId": "8375d74e-e413-4ea8-babe-ade2c504155f"
      },
      "source": [
        "%%time\n",
        "QL = Qlearning(alpha=best_alpha, eps=best_eps)\n",
        "sums_of_rewards = []\n",
        "best_sum_of_rewards = [QL.inference()]\n",
        "for i in tqdm(range(100)):\n",
        "    QL.train(1000)\n",
        "    sum_of_rewards = QL.inference()\n",
        "    sums_of_rewards.append(sum_of_rewards)"
      ],
      "execution_count": 15,
      "outputs": [
        {
          "output_type": "display_data",
          "data": {
            "application/vnd.jupyter.widget-view+json": {
              "model_id": "9e6c677cdefd41a0b10f9bd44e1e1e5f",
              "version_minor": 0,
              "version_major": 2
            },
            "text/plain": [
              "  0%|          | 0/100 [00:00<?, ?it/s]"
            ]
          },
          "metadata": {}
        },
        {
          "output_type": "stream",
          "name": "stdout",
          "text": [
            "CPU times: user 16min 18s, sys: 1min 39s, total: 17min 58s\n",
            "Wall time: 15min 19s\n"
          ]
        }
      ]
    },
    {
      "cell_type": "code",
      "metadata": {
        "colab": {
          "base_uri": "https://localhost:8080/",
          "height": 280
        },
        "id": "uhIcfdH5C8zT",
        "outputId": "d06daf6e-9b18-4234-a276-f0c5df9e72f3"
      },
      "source": [
        "plt.plot(range(0, 100000, 1000), sums_of_rewards)\n",
        "plt.xlabel('Эпизод')\n",
        "plt.ylabel('Avarage cumulative reward')\n",
        "plt.grid()\n",
        "plt.show()"
      ],
      "execution_count": 17,
      "outputs": [
        {
          "output_type": "display_data",
          "data": {
            "image/png": "[encoded data removed]",
            "text/plain": [
              "<Figure size 432x288 with 1 Axes>"
            ]
          },
          "metadata": {
            "needs_background": "light"
          }
        }
      ]
    },
    {
      "cell_type": "markdown",
      "metadata": {
        "id": "eeIeXh0qusCj"
      },
      "source": [
        "Обучились довольно быстро"
      ]
    },
    {
      "cell_type": "markdown",
      "metadata": {
        "id": "toLiolpBC8zT"
      },
      "source": [
        "#### Grid search Monte Carlo control and plot"
      ]
    },
    {
      "cell_type": "code",
      "metadata": {
        "colab": {
          "base_uri": "https://localhost:8080/",
          "height": 66,
          "referenced_widgets": [
            "4abd3b9a24c044a58ff0801f1f1df71a",
            "1bbb508447e047d3a018940e5de7221b",
            "7a396aae1f9c4b8ab565978a63864a18",
            "cda5d05de5a2424abaf1515123d077cb",
            "cccf662a65584455ba740c45e22eb92e",
            "9d84b80fcc7b451ca2e541d2db9c1be3",
            "946f7c4ef27b46049eed3264353260e0",
            "44867c1aaa724613814663a02a717253",
            "a1965d4d989f43688f94ba05efa860c4",
            "9f609ffcea574da994a89a2e4b75a417",
            "d60508379b7d441f95975cf6a5c6beba"
          ]
        },
        "id": "PRNmCAcmC8zU",
        "outputId": "119fa2ec-e58c-4e93-b0f4-6da7d5b037a7"
      },
      "source": [
        "best_sum_of_rewards = -0.18 # нужно лучше\n",
        "best_gamma = 0\n",
        "\n",
        "for gamma in tqdm(np.linspace(0., 1, 10)):\n",
        "    Q_mc, evaluations = monte_carlo(gamma=gamma, episodes=50000, evaluate=False)\n",
        "    sum_of_rewards = MC_inference(Q_mc, episodes=100000)\n",
        "    if sum_of_rewards > best_sum_of_rewards:\n",
        "        best_sum_of_rewards = sum_of_rewards\n",
        "        best_gamma = gamma\n",
        "\n",
        "print(f\"Лучший выигрыш: {best_sum_of_rewards}, best_gamma: {best_gamma}\")"
      ],
      "execution_count": 26,
      "outputs": [
        {
          "output_type": "display_data",
          "data": {
            "application/vnd.jupyter.widget-view+json": {
              "model_id": "4abd3b9a24c044a58ff0801f1f1df71a",
              "version_minor": 0,
              "version_major": 2
            },
            "text/plain": [
              "  0%|          | 0/10 [00:00<?, ?it/s]"
            ]
          },
          "metadata": {}
        },
        {
          "output_type": "stream",
          "name": "stdout",
          "text": [
            "Лучший выигрыш: -0.030654999999999755, best_gamma: 0.2222222222222222\n"
          ]
        }
      ]
    },
    {
      "cell_type": "markdown",
      "metadata": {
        "id": "0E8i9kGJ4D9H"
      },
      "source": [
        "маловато эпизодов, грид сёрч показал результаты хуже"
      ]
    },
    {
      "cell_type": "code",
      "metadata": {
        "colab": {
          "base_uri": "https://localhost:8080/",
          "height": 49,
          "referenced_widgets": [
            "977e266bc757453b8394e79b1047beca",
            "881207a0bcd14be9bea37a48dbc23092",
            "5cbd7186abc24a48a1c1db079539cb46",
            "e778da94addf4366b1761dc2197407f6",
            "255fca466fd14e73a0c63c64de18f420",
            "ff85fe717f7b40c78ba9cb4af3961d1f",
            "8fa7e777d4594404a8de52181d588aac",
            "14fe1d43d8694bb980c98f9709a93118",
            "b4990cb1f92c4bf28acba44e128b6001",
            "56b5719276f647ac8c89b6f46bd2ba80",
            "5e8c498aaa1847eabdf2957b9332e14b"
          ]
        },
        "id": "zjiiFiQbC8zU",
        "outputId": "69738d07-1c57-45a2-ef0d-18d82d29dcac"
      },
      "source": [
        "sums_of_rewards = []\n",
        "best_sum_of_rewards = [QL.inference()]\n",
        "for i in tqdm(range(50)):\n",
        "    Q_mc, evaluations = monte_carlo(gamma=best_gamma, episodes=i * 1000, evaluate=False)\n",
        "    sum_of_rewards = MC_inference(Q_mc, episodes=100000)\n",
        "    sums_of_rewards.append(sum_of_rewards)"
      ],
      "execution_count": 27,
      "outputs": [
        {
          "output_type": "display_data",
          "data": {
            "application/vnd.jupyter.widget-view+json": {
              "model_id": "977e266bc757453b8394e79b1047beca",
              "version_minor": 0,
              "version_major": 2
            },
            "text/plain": [
              "  0%|          | 0/50 [00:00<?, ?it/s]"
            ]
          },
          "metadata": {}
        }
      ]
    },
    {
      "cell_type": "code",
      "metadata": {
        "id": "Yw1oy9clC8zU",
        "colab": {
          "base_uri": "https://localhost:8080/",
          "height": 279
        },
        "outputId": "4a31d78f-9b51-4c14-ae79-81f93c77f754"
      },
      "source": [
        "plt.plot(range(0, 50000, 1000), sums_of_rewards)\n",
        "plt.xlabel('Эпизод')\n",
        "plt.ylabel('Avarage cumulative reward')\n",
        "plt.grid()\n",
        "plt.show()"
      ],
      "execution_count": 28,
      "outputs": [
        {
          "output_type": "display_data",
          "data": {
            "image/png": "[encoded data removed]",
            "text/plain": [
              "<Figure size 432x288 with 1 Axes>"
            ]
          },
          "metadata": {
            "needs_background": "light"
          }
        }
      ]
    },
    {
      "cell_type": "markdown",
      "metadata": {
        "id": "6y7yrwcgC8zW"
      },
      "source": [
        "## Часть вторая, удвоенная\n",
        "\n",
        "В базовый блекджек, описанный в предыдущем разделе, обыграть казино вряд ли получится. Но, к счастью, на этом история не заканчивается. Описанные выше правила были упрощёнными, а на самом деле у игрока есть ещё и другие возможности. Реализовывать split может оказаться непросто, поэтому давайте ограничимся удвоением ставки. Итак, у игрока появляется дополнительное действие:\n"
      ]
    },
    {
      "cell_type": "markdown",
      "metadata": {
        "id": "Qb3fFtFxC8zW"
      },
      "source": [
        "* double — удвоить ставку; при этом больше действий делать нельзя, игроку выдаётся ровно одна дополнительная карта, а выигрыш или проигрыш удваивается.\n",
        "4. Реализуйте новый вариант блекджека на основе окружения Blackjack-v0 из OpenAI Gym, в котором разрешено удвоение ставки.\n",
        "5. Реализуйте метод обучения с подкреплением без модели для этого варианта, постройте графики, аналогичные п.2.\n"
      ]
    },
    {
      "cell_type": "markdown",
      "metadata": {
        "id": "rDKOju2-C8zX"
      },
      "source": [
        "#### 4. Реализуйте новый вариант блекджека на основе окружения Blackjack-v0 из OpenAI Gym, в котором разрешено удвоение ставки."
      ]
    },
    {
      "cell_type": "code",
      "metadata": {
        "id": "t7T9mtgsC8zX"
      },
      "source": [
        "class Doubled_Blackjack_V0_Env:\n",
        "    def __init__(self):\n",
        "        self.base_env = gym.make('Blackjack-v0')\n",
        "        self.action_space = list(range(3))\n",
        "        \n",
        "    def reset(self):\n",
        "        return self.base_env.reset()\n",
        "    \n",
        "    def step(self, action):\n",
        "        if action == 2:            \n",
        "            state, reward, is_done, _ = self.base_env.step(1)\n",
        "            \n",
        "            if is_done:\n",
        "                return state, 2 * reward, is_done, _            \n",
        "            else:                \n",
        "                state, reward, is_done, _ = self.base_env.step(0)\n",
        "                return state, 2 * reward, is_done, _            \n",
        "        else:\n",
        "            return self.base_env.step(action)"
      ],
      "execution_count": 4,
      "outputs": []
    },
    {
      "cell_type": "code",
      "metadata": {
        "id": "DXwSxngVC8zX"
      },
      "source": [
        "class Qlearning_Doubled_Blackjack:\n",
        "    def __init__(self, alpha=0.00001, gamma=1, eps=0.1):\n",
        "        self.Q = {}\n",
        "        self.alpha = alpha\n",
        "        self.gamma = gamma\n",
        "        self.eps = eps\n",
        "        \n",
        "        self.env = Doubled_Blackjack_V0_Env()\n",
        "        self.na = 3\n",
        "        self.action_space = list(range(self.na))\n",
        "    \n",
        "    def get_rewards(self, state):\n",
        "        if state not in self.Q.keys():\n",
        "            self.Q[state] = np.zeros(self.na)\n",
        "        return self.Q[state]\n",
        "    \n",
        "    def get_next_action(self, state):\n",
        "        rewards = self.get_rewards(state)\n",
        "        return np.argmax(rewards)\n",
        "    \n",
        "    def epsilon_greedy_policy(self, state):\n",
        "        if np.random.rand() < self.eps:\n",
        "            action = np.random.choice(self.action_space)\n",
        "        else:\n",
        "            action = self.get_next_action(state)\n",
        "        return action\n",
        "            \n",
        "    def run_episode(self):\n",
        "        state = self.env.reset()\n",
        "        done = False\n",
        "        steps = []\n",
        "        while not done:\n",
        "            action = self.epsilon_greedy_policy(state)\n",
        "            steps.append((state, action))\n",
        "            state, reward, done, _ = self.env.step(action)\n",
        "        return steps, reward\n",
        "    \n",
        "    def train(self, episodes=100000):\n",
        "        for n in range(episodes):\n",
        "            steps, reward = self.run_episode()\n",
        "            for state, action in steps[::-1]:\n",
        "                reward = self.get_rewards(state)[action] + self.alpha * \\\n",
        "                (reward + self.gamma * np.max(self.Q[state]) - self.get_rewards(state)[action])\n",
        "                self.Q[state][action] = reward\n",
        "    \n",
        "    def inference(self, episodes=100000):\n",
        "        avg_reward = 0\n",
        "        for i in range(episodes):\n",
        "            state = self.env.reset()\n",
        "            is_done = False\n",
        "            while not is_done:\n",
        "                action = self.get_next_action(state)\n",
        "                state, reward, is_done, _ = self.env.step(action)\n",
        "            avg_reward += (reward - avg_reward) / (i + 1)\n",
        "        return avg_reward"
      ],
      "execution_count": 5,
      "outputs": []
    },
    {
      "cell_type": "code",
      "metadata": {
        "id": "huhypJyGC8zY",
        "colab": {
          "base_uri": "https://localhost:8080/"
        },
        "outputId": "8f5e0ee7-b220-4c2c-f49b-6af31a4f1c64"
      },
      "source": [
        "QL_Doubled = Qlearning_Doubled_Blackjack()\n",
        "QL_Doubled.train(1000000)\n",
        "avg_reward = QL_Doubled.inference()\n",
        "print(f\"Средний выигрыш Q-learning для удвоенной игры: {avg_reward}\")"
      ],
      "execution_count": 35,
      "outputs": [
        {
          "output_type": "stream",
          "name": "stdout",
          "text": [
            "Средний выигрыш Q-learning для удвоенной игры: -0.10098000000000006\n"
          ]
        }
      ]
    },
    {
      "cell_type": "markdown",
      "metadata": {
        "id": "DmjZB6x0ABYk"
      },
      "source": [
        "видимо параметры не очень"
      ]
    },
    {
      "cell_type": "markdown",
      "metadata": {
        "id": "A7jU5hM-AH9h"
      },
      "source": [
        "### Монте-Карло"
      ]
    },
    {
      "cell_type": "code",
      "metadata": {
        "id": "1N0bV_ZSC8zY"
      },
      "source": [
        "env = Doubled_Blackjack_V0_Env()\n",
        "\n",
        "def get_epsilon(N_state_count, N_zero=100):\n",
        "    return N_zero / (N_zero + N_state_count)\n",
        "\n",
        "def get_action(Q, state, state_count, action_size):\n",
        "    random_action = random.randint(0, action_size - 1)\n",
        "    best_action = np.argmax(Q[state])\n",
        "    epsilon = get_epsilon(state_count)\n",
        "    return np.random.choice([best_action, random_action], p=[1. - epsilon, epsilon])\n",
        "\n",
        "def MC_inference(Q, episodes=100000):\n",
        "    avg_reward = 0\n",
        "    for i in range(episodes):\n",
        "        state = env.reset()\n",
        "        is_done = False\n",
        "        while not is_done:\n",
        "            action = np.argmax(Q[state])\n",
        "            state, reward, is_done, _ = env.step(action)\n",
        "        avg_reward += (reward - avg_reward) / (i + 1)\n",
        "    return avg_reward\n",
        "\n",
        "\n",
        "def evaluate_policy(Q, episodes=10000):\n",
        "    wins = 0\n",
        "    for _ in range(episodes):\n",
        "        state = env.reset()\n",
        "        done = False\n",
        "        while not done:\n",
        "            action = np.argmax(Q[state])\n",
        "            state, reward, done, _ = env.step(action=action)\n",
        "        if reward > 0:\n",
        "            wins += 1\n",
        "    return wins / episodes\n",
        "\n",
        "def monte_carlo(gamma=1., episodes=5000, evaluate=False):\n",
        "    Q = defaultdict(lambda: np.zeros(3))\n",
        "    state_count = defaultdict(float)\n",
        "    state_action_count = defaultdict(float)\n",
        "    \n",
        "    evaluations = []\n",
        "    for i in range(episodes):\n",
        "        if evaluate and i % 1000 == 0:\n",
        "            evaluations.append(evaluate_policy(Q))\n",
        "        episode = []\n",
        "        state = env.reset()\n",
        "        done = False\n",
        "        while not done:\n",
        "            state_count[state] += 1\n",
        "            action = get_action(Q, state, state_count[state], 3)\n",
        "            new_state, reward, done, _ = env.step(action=action)\n",
        "            episode.append((state, action, reward))\n",
        "            state = new_state\n",
        "        G = 0\n",
        "        for s, a, r in reversed(episode):\n",
        "            new_s_a_count = state_action_count[(s, a)] + 1\n",
        "            G = r + gamma * G\n",
        "            state_action_count[(s, a)] = new_s_a_count\n",
        "            Q[s][a] = Q[s][a] + (G - Q[s][a]) / new_s_a_count\n",
        "    return Q, evaluations"
      ],
      "execution_count": 6,
      "outputs": []
    },
    {
      "cell_type": "code",
      "metadata": {
        "id": "tjGiFOBkC8zZ",
        "colab": {
          "base_uri": "https://localhost:8080/"
        },
        "outputId": "b7d6b354-af2b-4226-80b9-42af2df94170"
      },
      "source": [
        "Q_mc, evaluations = monte_carlo(episodes=1000000)\n",
        "avg_reward = MC_inference(Q_mc, episodes=100000)\n",
        "print(f\"Средний выигрыш MC для удвоенной игры: {avg_reward}\")"
      ],
      "execution_count": 41,
      "outputs": [
        {
          "output_type": "stream",
          "name": "stdout",
          "text": [
            "Средний выигрыш MC для удвоенной игры: -0.05058000000000001\n"
          ]
        }
      ]
    },
    {
      "cell_type": "markdown",
      "metadata": {
        "id": "RSbH14OYpJkU"
      },
      "source": [
        "Видимо двойная ставка не так хороша"
      ]
    },
    {
      "cell_type": "markdown",
      "metadata": {
        "id": "N2bbZXrJC8zZ"
      },
      "source": [
        "#### 5. Реализуйте метод обучения с подкреплением без модели для этого варианта, постройте графики, аналогичные п.2."
      ]
    },
    {
      "cell_type": "markdown",
      "metadata": {
        "id": "xYW7Mln3C8zZ"
      },
      "source": [
        "#### Grid search q-learning and plot"
      ]
    },
    {
      "cell_type": "code",
      "metadata": {
        "id": "YiDomhRgC8zZ",
        "colab": {
          "base_uri": "https://localhost:8080/",
          "height": 66,
          "referenced_widgets": [
            "e09ee16e8cd94f2295c2de5d22e0579d",
            "ea036940d4fb4f57b61cc274e4230e54",
            "e9e2f6ff4061421abe1e07bf0fa2a465",
            "1bc0ae80fddc4575a6cabb106a766b5c",
            "1876d658012d45f2b76327ed94817b2a",
            "62026290dfaf4126b2b46814fc2b095e",
            "2801e71b1aca49358dff66eab78230b3",
            "65c25845952549a09c5e4c8f2dafe869",
            "a84be767d92143469aede8b6c6d0e3cf",
            "1c282fa9acc549a78c3ecd668b86f698",
            "888c9b2b219445eda5c7ca26d2e79ee9"
          ]
        },
        "outputId": "3a3e62b2-85b5-40ba-bfec-673d482b27ce"
      },
      "source": [
        "best_sum_of_rewards = -0.18\n",
        "best_alpha = 0\n",
        "best_eps = 0\n",
        "for alpha in tqdm(np.linspace(0.0001, 0.01, 10)):\n",
        "    for eps in np.linspace(0.05, 1, 10):\n",
        "        QL_Doubled = Qlearning_Doubled_Blackjack(alpha=alpha, eps=eps)\n",
        "        QL_Doubled.train(100000)\n",
        "        sum_of_rewards = QL_Doubled.inference()\n",
        "        if sum_of_rewards > best_sum_of_rewards:\n",
        "            best_sum_of_rewards = sum_of_rewards\n",
        "            best_alpha = alpha\n",
        "            best_eps = eps\n",
        "\n",
        "print(f\"Лучший выигрыш: {best_sum_of_rewards}, alpha: {best_alpha}, eps: {best_eps}\")"
      ],
      "execution_count": 9,
      "outputs": [
        {
          "data": {
            "application/vnd.jupyter.widget-view+json": {
              "model_id": "e09ee16e8cd94f2295c2de5d22e0579d",
              "version_major": 2,
              "version_minor": 0
            },
            "text/plain": [
              "  0%|          | 0/10 [00:00<?, ?it/s]"
            ]
          },
          "metadata": {},
          "output_type": "display_data"
        },
        {
          "output_type": "stream",
          "name": "stdout",
          "text": [
            "Лучший выигрыш: -0.03757000000000056, alpha: 0.0001, eps: 1.0\n"
          ]
        }
      ]
    },
    {
      "cell_type": "markdown",
      "metadata": {
        "id": "rnn3Srg3wacn"
      },
      "source": [
        "Грид сёрч неплох! (кажется, мы на границе, стоило бы продолжить)"
      ]
    },
    {
      "cell_type": "code",
      "metadata": {
        "id": "IDJHsJvXC8za",
        "colab": {
          "base_uri": "https://localhost:8080/",
          "height": 49,
          "referenced_widgets": [
            "12eb9e6e4d094d90816b988ecbf53e24",
            "6458cc22391640df99913239933674c7",
            "a3555288c7f74e20969dff595a2946f1",
            "f23704578c7a42d5946e35029a913560",
            "db9b46b32df743be89ee088df61d3412",
            "c6f950480d4847b29a6f1cdf14e698d5",
            "305b4d1cdd9d4eb48cb8e423d5360ba5",
            "df30330a2d7c4f32ae59ee957ef47159",
            "6b7b234a2ad142e08dd5d4c79291e1b6",
            "971a22c0510a443e9f7a2a7ba188cbf8",
            "510ef694b0e84f3f965244f34af9160b"
          ]
        },
        "outputId": "9725a8c9-8ac0-48b9-bdc8-e1d3e70f2276"
      },
      "source": [
        "QL_Doubled = Qlearning_Doubled_Blackjack(alpha=best_alpha, eps=best_eps)\n",
        "sums_of_rewards = []\n",
        "best_sum_of_rewards = [QL_Doubled.inference()]\n",
        "for i in tqdm(range(50)):\n",
        "    QL_Doubled.train(10000)\n",
        "    sum_of_rewards = QL_Doubled.inference()\n",
        "    sums_of_rewards.append(sum_of_rewards)"
      ],
      "execution_count": 10,
      "outputs": [
        {
          "output_type": "display_data",
          "data": {
            "application/vnd.jupyter.widget-view+json": {
              "model_id": "12eb9e6e4d094d90816b988ecbf53e24",
              "version_minor": 0,
              "version_major": 2
            },
            "text/plain": [
              "  0%|          | 0/50 [00:00<?, ?it/s]"
            ]
          },
          "metadata": {}
        }
      ]
    },
    {
      "cell_type": "code",
      "metadata": {
        "id": "JrPxEa9zC8za",
        "colab": {
          "base_uri": "https://localhost:8080/",
          "height": 283
        },
        "outputId": "eebcad2b-57da-483a-c665-0db0c15f01e6"
      },
      "source": [
        "plt.plot(range(0, 500000, 10000), sums_of_rewards)\n",
        "plt.xlabel('Эпизод')\n",
        "plt.ylabel('Avarage cumulative reward')\n",
        "plt.grid()\n",
        "plt.show()"
      ],
      "execution_count": 11,
      "outputs": [
        {
          "output_type": "display_data",
          "data": {
            "image/png": "[encoded data removed]",
            "text/plain": [
              "<Figure size 432x288 with 1 Axes>"
            ]
          },
          "metadata": {
            "needs_background": "light"
          }
        }
      ]
    },
    {
      "cell_type": "markdown",
      "metadata": {
        "id": "k2No8au6qB89"
      },
      "source": [
        "Для Монте-Карло обойдемся без поиска по сетке"
      ]
    },
    {
      "cell_type": "code",
      "metadata": {
        "id": "Rz68tbQ8C8za",
        "colab": {
          "base_uri": "https://localhost:8080/",
          "height": 311,
          "referenced_widgets": [
            "59e826ae56144900bd46e96e5a938b21",
            "af8fe44bd7a34eeaa6bd3f1697826a48",
            "046e592bef4441e0bd32ea375f608cef",
            "691c2b823cf34d1499635a70ed9ce118",
            "41548b040bef4404be22116bd9f627fc",
            "80d359097ee940eeb2692829715c2075",
            "44947602ed124272bcb5d5ce9b5208e7",
            "c62c954ad0ad44d88b617495c1cbf299",
            "ac72d53439cc4b5a9ca46bee91f3caa4",
            "4d15f1aa5230476389991c125731a826",
            "24b5d2c4fd4d473f820f5c23a1fc1b02"
          ]
        },
        "outputId": "7323b488-996e-42cf-d2d6-a821c9400fac"
      },
      "source": [
        "sums_of_rewards = []\n",
        "best_sum_of_rewards = []\n",
        "for i in tqdm(range(100)):\n",
        "    Q_mc, evaluations = monte_carlo(gamma=1, episodes=i * 1000, evaluate=False)\n",
        "    sum_of_rewards = MC_inference(Q_mc, episodes=100000)\n",
        "    sums_of_rewards.append(sum_of_rewards)\n",
        "    \n",
        "plt.plot(range(0, 100000, 1000), sums_of_rewards)\n",
        "plt.xlabel('Эпизод')\n",
        "plt.ylabel('Avarage cumulative reward')\n",
        "plt.grid()\n",
        "plt.show()"
      ],
      "execution_count": 14,
      "outputs": [
        {
          "output_type": "display_data",
          "data": {
            "application/vnd.jupyter.widget-view+json": {
              "model_id": "59e826ae56144900bd46e96e5a938b21",
              "version_minor": 0,
              "version_major": 2
            },
            "text/plain": [
              "  0%|          | 0/100 [00:00<?, ?it/s]"
            ]
          },
          "metadata": {}
        },
        {
          "output_type": "display_data",
          "data": {
            "image/png": "[encoded data removed]",
            "text/plain": [
              "<Figure size 432x288 with 1 Axes>"
            ]
          },
          "metadata": {
            "needs_background": "light"
          }
        }
      ]
    },
    {
      "cell_type": "markdown",
      "metadata": {
        "id": "nyNtnqSDC8zb"
      },
      "source": [
        "## Часть третья, в главной роли — Дастин Хоффман\n",
        "\n",
        "А теперь давайте вспомним, как играют в блекджек настоящие профессионалы. Дело в том, что в оффлайн-казино обычно не перемешивают колоду после каждой раздачи — это слишком замедляло бы игру. После раздачи карты просто раздаются дальше с верха колоды до тех пор, пока карт не останется слишком мало, и только тогда колода перемешивается; давайте для определённости считать, что наше казино будет перемешивать колоду, в которой осталось меньше 15 карт."
      ]
    },
    {
      "cell_type": "markdown",
      "metadata": {
        "id": "iOIA7F7-C8zb"
      },
      "source": [
        "Действительно, если вы будете запоминать, какие карты уже вышли, у вас будет информация о том, какие карты ещё остались, а это позволяет лучше понять, когда нужно удваивать ставку или делать split, а когда лучше не стоит. В настоящем казино могут раздавать карты сразу из нескольких колод, и заслуга Rain Man’а была в том, что он смог считать карты в шести колодах одновременно. Но мы с вами вооружены компьютерами, так что подсчёт можно считать автоматическим."
      ]
    },
    {
      "cell_type": "markdown",
      "metadata": {
        "id": "KR5Co_GwC8zb"
      },
      "source": [
        "#### 6. Реализуйте вариант окружения Blackjack-v0 из предыдущей части (с удвоением), в котором игрок имеет возможность “считать карты” в колоде."
      ]
    },
    {
      "cell_type": "code",
      "metadata": {
        "id": "dsj_phu-C8zb"
      },
      "source": [
        "from gym.envs.toy_text.blackjack import cmp, is_bust, is_natural, score, sum_hand\n",
        "from gym import spaces\n",
        "from gym.envs.toy_text.blackjack import BlackjackEnv\n",
        "\n",
        "\n",
        "class Doubled_Blackjack_V0_Env(BlackjackEnv):\n",
        "    def __init__(self, *args, **kwargs):\n",
        "        self.base_env = gym.make('Blackjack-v0')\n",
        "        self.action_space = list(range(3))\n",
        "        super(BlackjackEnv, self).__init__(*args, **kwargs)\n",
        "        \n",
        "    def reset(self):\n",
        "        return self.base_env.reset()\n",
        "    \n",
        "    def step(self, action):\n",
        "        if action == 2:\n",
        "            state, reward, is_done, _ = self.base_env.step(1)\n",
        "            if done:\n",
        "                return state, 2*reward, is_done, _\n",
        "            else:\n",
        "                state, reward, is_done, _ = self.base_env.step(0)\n",
        "                return state, 2*reward, is_done, _\n",
        "        else:\n",
        "            return self.base_env.step(action)\n",
        "\n",
        "class HoffmanBlackjackEnv(Doubled_Blackjack_V0_Env):\n",
        "    def __init__(self, *args, **kwargs):\n",
        "        self.base_env = gym.make('Blackjack-v0', natural=True)\n",
        "        self.na = 3\n",
        "        self.natural = True\n",
        "        self.action_space = spaces.Discrete(3)\n",
        "        self.sum_card = 0\n",
        "        deck = [1, 2, 3, 4, 5, 6, 7, 8, 9, 10, 10, 10, 10] * 4\n",
        "        self.deck = deck.copy()\n",
        "        self.card_cost = {\n",
        "                            1: -1,\n",
        "                            2: +0.5,\n",
        "                            3: +1,\n",
        "                            4: +1,\n",
        "                            5: +1.5,\n",
        "                            6: +1,\n",
        "                            7: +0.5,\n",
        "                            8: +0,\n",
        "                            9: -0.5,\n",
        "                            10: -1,}\n",
        "\n",
        "        super(HoffmanBlackjackEnv, self).__init__(*args, **kwargs)\n",
        "        \n",
        "    def reset(self, deck=[1, 2, 3, 4, 5, 6, 7, 8, 9, 10, 10, 10, 10] * 4):\n",
        "        if len(self.deck) <= 15:\n",
        "            self.sum_card = 0\n",
        "            self.deck = deck.copy()\n",
        "        self.dealer = self.draw_hand()\n",
        "        self.player = self.draw_hand()\n",
        "        return self._get_obs()\n",
        "\n",
        "    def draw_card(self):\n",
        "        card = np.random.choice(self.deck)\n",
        "        self.deck.remove(card)\n",
        "        self.sum_card += self.card_cost[card]\n",
        "        return int(card)\n",
        "    \n",
        "    def draw_hand(self):\n",
        "        return [self.draw_card(), self.draw_card()]\n",
        "        \n",
        "    def _get_obs(self):\n",
        "        return (*super(Doubled_Blackjack_V0_Env, self)._get_obs(), self.sum_card)\n",
        "    \n",
        "    def step(self, action):\n",
        "\n",
        "        if action: \n",
        "            self.player.append(self.draw_card())\n",
        "            if is_bust(self.player):\n",
        "                done = True\n",
        "                reward = -1.\n",
        "            else:\n",
        "                done = False\n",
        "                reward = 0.\n",
        "        else:  \n",
        "            done = True\n",
        "            while sum_hand(self.dealer) < 17:\n",
        "                self.dealer.append(self.draw_card())\n",
        "                \n",
        "                \n",
        "            reward = cmp(score(self.player), score(self.dealer))\n",
        "            \n",
        "            if self.natural and is_natural(self.player) and reward == 1.:\n",
        "                reward = 1.5\n",
        "                \n",
        "        return self._get_obs(), reward, done, {}"
      ],
      "execution_count": 16,
      "outputs": []
    },
    {
      "cell_type": "code",
      "metadata": {
        "id": "ibMK7YvAC8zc"
      },
      "source": [
        "class Qlearning_hoffman():\n",
        "    def __init__(self, alpha=0.00001, gamma=1, eps=0.1):\n",
        "        self.Q = {}\n",
        "        self.alpha = alpha\n",
        "        self.gamma = gamma\n",
        "        self.eps = eps\n",
        "        self.env = HoffmanBlackjackEnv()\n",
        "        self.na = 3\n",
        "        self.action_space = list(range(self.na))\n",
        "    \n",
        "    def get_rewards(self, state):\n",
        "        if state not in self.Q.keys():\n",
        "            self.Q[state] = np.zeros(self.na)\n",
        "        return self.Q[state]\n",
        "    \n",
        "    def get_next_action(self, state):\n",
        "        rewards = self.get_rewards(state)\n",
        "        return np.argmax(rewards)\n",
        "    \n",
        "    def epsilon_greedy_policy(self, state):\n",
        "        if np.random.rand() < self.eps:\n",
        "            action = np.random.choice(self.action_space)\n",
        "        else:\n",
        "            action = self.get_next_action(state)\n",
        "        return action\n",
        "            \n",
        "    def run_episode(self):\n",
        "        state = self.env.reset()\n",
        "        done = False\n",
        "        steps = []\n",
        "        while not done:\n",
        "            action = self.epsilon_greedy_policy(state)\n",
        "            steps.append((state, action))\n",
        "            state, reward, done, _ = self.env.step(action)\n",
        "        return steps, reward\n",
        "    \n",
        "    def train(self, episodes=100000):\n",
        "        for n in range(episodes):\n",
        "            steps, reward = self.run_episode()\n",
        "            for state, action in steps[::-1]:\n",
        "                reward = self.get_rewards(state)[action] + self.alpha * \\\n",
        "                (reward + self.gamma * np.max(self.Q[state]) - self.get_rewards(state)[action])\n",
        "                self.Q[state][action] = reward\n",
        "    \n",
        "    def inference(self, episodes=100000):\n",
        "        avg_reward = 0\n",
        "        for i in range(episodes):\n",
        "            state = self.env.reset()\n",
        "            is_done = False\n",
        "            while not is_done:\n",
        "                action = self.get_next_action(state)\n",
        "                state, reward, is_done, _ = self.env.step(action)\n",
        "            avg_reward += (reward - avg_reward) / (i + 1)\n",
        "        return avg_reward"
      ],
      "execution_count": 17,
      "outputs": []
    },
    {
      "cell_type": "code",
      "metadata": {
        "id": "Sk0e8kDwC8zc",
        "colab": {
          "base_uri": "https://localhost:8080/"
        },
        "outputId": "05275966-1d28-4258-e6b7-a0f559e3a1e6"
      },
      "source": [
        "QL_Hoffman = Qlearning_hoffman()\n",
        "QL_Hoffman.train(1000000)\n",
        "avg_reward = QL_Hoffman.inference()\n",
        "print(f\"Средний выигрыш Q-learning для игры Хоффмана: {avg_reward}\")"
      ],
      "execution_count": 20,
      "outputs": [
        {
          "output_type": "stream",
          "name": "stdout",
          "text": [
            "Средний выигрыш Q-learning для игры Хоффмана: -0.05294499999999936\n"
          ]
        }
      ]
    },
    {
      "cell_type": "markdown",
      "metadata": {
        "id": "WCXw60SBs8nC"
      },
      "source": [
        "Посмотрим, что даст грид сёрч"
      ]
    },
    {
      "cell_type": "code",
      "metadata": {
        "id": "OXrEQRslC8zc"
      },
      "source": [
        "env = HoffmanBlackjackEnv()\n",
        "\n",
        "def get_epsilon(N_state_count, N_zero=100):\n",
        "    return N_zero / (N_zero + N_state_count)\n",
        "\n",
        "def get_action(Q, state, state_count, action_size):\n",
        "    random_action = random.randint(0, action_size - 1)\n",
        "    best_action = np.argmax(Q[state])\n",
        "    epsilon = get_epsilon(state_count)\n",
        "    return np.random.choice([best_action, random_action], p=[1. - epsilon, epsilon])\n",
        "\n",
        "def MC_inference(Q, episodes=100000):\n",
        "    avg_reward = 0\n",
        "    for i in range(episodes):\n",
        "        state = env.reset()\n",
        "        is_done = False\n",
        "        while not is_done:\n",
        "            action = np.argmax(Q[state])\n",
        "            state, reward, is_done, _ = env.step(action)\n",
        "        avg_reward += (reward - avg_reward) / (i + 1)\n",
        "    return avg_reward\n",
        "\n",
        "def evaluate_policy(Q, episodes=10000):\n",
        "    wins = 0\n",
        "    for _ in range(episodes):\n",
        "        state = env.reset()\n",
        "        done = False\n",
        "        while not done:\n",
        "            action = np.argmax(Q[state])\n",
        "            state, reward, done, _ = env.step(action=action)\n",
        "        if reward > 0:\n",
        "            wins += 1\n",
        "    return wins / episodes\n",
        "\n",
        "def monte_carlo(gamma=1., episodes=5000, evaluate=False):\n",
        "    Q = defaultdict(lambda: np.zeros(3))\n",
        "    state_count = defaultdict(float)\n",
        "    state_action_count = defaultdict(float)\n",
        "    \n",
        "    evaluations = []\n",
        "    for i in range(episodes):\n",
        "        if evaluate and i % 1000 == 0:\n",
        "            evaluations.append(evaluate_policy(Q))\n",
        "        episode = []\n",
        "        state = env.reset()\n",
        "        done = False\n",
        "        while not done:\n",
        "            state_count[state] += 1\n",
        "            action = get_action(Q, state, state_count[state], 3)\n",
        "            new_state, reward, done, _ = env.step(action=action)\n",
        "            episode.append((state, action, reward))\n",
        "            state = new_state\n",
        "        G = 0\n",
        "        for s, a, r in reversed(episode):\n",
        "            new_s_a_count = state_action_count[(s, a)] + 1\n",
        "            G = r + gamma * G\n",
        "            state_action_count[(s, a)] = new_s_a_count\n",
        "            Q[s][a] = Q[s][a] + (G - Q[s][a]) / new_s_a_count\n",
        "    return Q, evaluations"
      ],
      "execution_count": 22,
      "outputs": []
    },
    {
      "cell_type": "code",
      "metadata": {
        "id": "mtgjmOJsC8zd",
        "colab": {
          "base_uri": "https://localhost:8080/"
        },
        "outputId": "eacf3893-51ea-4ab0-81e5-1bee421533f5"
      },
      "source": [
        "Q_mc, evaluations = monte_carlo(episodes=1000000)\n",
        "avg_reward = MC_inference(Q_mc, episodes=100000)\n",
        "print(f\"Средний выигрыш MC для игры Хоффмана: {avg_reward}\")"
      ],
      "execution_count": 24,
      "outputs": [
        {
          "output_type": "stream",
          "name": "stdout",
          "text": [
            "Средний выигрыш MC для игры Хоффмана: -0.02996500000000002\n"
          ]
        }
      ]
    },
    {
      "cell_type": "markdown",
      "metadata": {
        "id": "ubXTFfVGt2wD"
      },
      "source": [
        "У метода Монте-Карло результат стабильно хороший, но особенно не улучшается от стратегии к стратегии"
      ]
    },
    {
      "cell_type": "markdown",
      "metadata": {
        "id": "CBYfcOJZC8zd"
      },
      "source": [
        "#### 7. Реализуйте метод обучения с подкреплением без модели для этого варианта, постройте графики, аналогичные п.2."
      ]
    },
    {
      "cell_type": "markdown",
      "metadata": {
        "id": "O4PdLgmAC8zd"
      },
      "source": [
        "#### Grid search q-learning and plot"
      ]
    },
    {
      "cell_type": "code",
      "metadata": {
        "id": "8MQpZQSVC8zd",
        "colab": {
          "base_uri": "https://localhost:8080/",
          "height": 66,
          "referenced_widgets": [
            "17f1dc2201c244b7b254bcfd90a9d577",
            "9741f10b0af54282af0c880a53bfdcc8",
            "b30261fdf9314fc9a50514dfe4353dc5",
            "c52ada53cff7485fb36a0aa6b562e2ae",
            "31e6e8d9f8f6477ab195d5f4b9dd37f0",
            "66a52605cdd54823a8d068f75944969f",
            "b725f5def88542e090cd0c38b87734da",
            "7f7f133a42cd49e79798f28c462e90e4",
            "0f1aa0c3c91640ea8384c010a927a6c3",
            "491a68b648fa435da7f23873cf97ae25",
            "87f25cda57464395ab2dc3f8d8499698"
          ]
        },
        "outputId": "dc63fb32-e13d-450a-da10-ef8796f36d60"
      },
      "source": [
        "best_sum_of_rewards = -0.18\n",
        "best_alpha = 0\n",
        "best_eps = 0\n",
        "for alpha in tqdm(np.linspace(0.0001, 0.01, 5)):\n",
        "    for eps in np.linspace(0.01, 1, 5):\n",
        "        QL_Hoffman = Qlearning_hoffman(alpha=alpha, eps=eps)\n",
        "        QL_Hoffman.train(1000000)\n",
        "        sum_of_rewards = QL_Hoffman.inference()\n",
        "        if sum_of_rewards > best_sum_of_rewards:\n",
        "            best_sum_of_rewards = sum_of_rewards\n",
        "            best_alpha = alpha\n",
        "            best_eps = eps\n",
        "\n",
        "print(f\"Лучший выигрыш: {best_sum_of_rewards}, alpha: {best_alpha}, eps: {best_eps}\")"
      ],
      "execution_count": 29,
      "outputs": [
        {
          "output_type": "display_data",
          "data": {
            "application/vnd.jupyter.widget-view+json": {
              "model_id": "17f1dc2201c244b7b254bcfd90a9d577",
              "version_minor": 0,
              "version_major": 2
            },
            "text/plain": [
              "  0%|          | 0/5 [00:00<?, ?it/s]"
            ]
          },
          "metadata": {}
        },
        {
          "output_type": "stream",
          "name": "stdout",
          "text": [
            "Лучший выигрыш: -0.027480000000000157, alpha: 0.0001, eps: 1.0\n"
          ]
        }
      ]
    },
    {
      "cell_type": "markdown",
      "metadata": {
        "id": "clBZ2-kG-ozT"
      },
      "source": [
        "выглядит не так уж плохо"
      ]
    },
    {
      "cell_type": "code",
      "metadata": {
        "id": "m_lWF0U5C8zd",
        "colab": {
          "base_uri": "https://localhost:8080/",
          "height": 49,
          "referenced_widgets": [
            "d63570eac64d48409060b89cee30e7ac",
            "e0dfd7ae3e534b069710c431c2ae617a",
            "b763c1b286724f1c8feda9755b768fcd",
            "dd2f2918dd354003a3a1e1544d124ffc",
            "59d697cdd47d4fc5a86f8b6c73dcdbde",
            "916f2175945540f8a3920212864ee612",
            "f783323b379349b596b8ae3d43852e18",
            "1f19f0e5940f4e45825412169bd4c8b1",
            "a6960dfaa4824795aa7d6ba52ce01ae5",
            "2051586412f7438bb9dd937bf32bf9d6",
            "c486da18656f42abb58511ee042ba609"
          ]
        },
        "outputId": "09478b16-94bd-4efd-b455-6889ddfd3d4b"
      },
      "source": [
        "QL_Hoffman = Qlearning_hoffman(alpha=best_alpha, eps=best_eps)\n",
        "sums_of_rewards = []\n",
        "best_sum_of_rewards = []\n",
        "for i in tqdm(range(50)):\n",
        "    QL_Hoffman.train(10000)\n",
        "    sum_of_rewards = QL_Hoffman.inference()\n",
        "    sums_of_rewards.append(sum_of_rewards)"
      ],
      "execution_count": 30,
      "outputs": [
        {
          "output_type": "display_data",
          "data": {
            "application/vnd.jupyter.widget-view+json": {
              "model_id": "d63570eac64d48409060b89cee30e7ac",
              "version_minor": 0,
              "version_major": 2
            },
            "text/plain": [
              "  0%|          | 0/50 [00:00<?, ?it/s]"
            ]
          },
          "metadata": {}
        }
      ]
    },
    {
      "cell_type": "code",
      "metadata": {
        "id": "eFYayqAGC8ze",
        "colab": {
          "base_uri": "https://localhost:8080/",
          "height": 279
        },
        "outputId": "90ca0d8f-c66a-4856-81ef-c9e19b6513db"
      },
      "source": [
        "plt.plot(range(0, 500000, 10000), sums_of_rewards)\n",
        "plt.xlabel('Эпизод')\n",
        "plt.ylabel('Avarage cumulative reward')\n",
        "plt.grid()\n",
        "plt.show()"
      ],
      "execution_count": 31,
      "outputs": [
        {
          "output_type": "display_data",
          "data": {
            "image/png": "[encoded data removed]",
            "text/plain": [
              "<Figure size 432x288 with 1 Axes>"
            ]
          },
          "metadata": {
            "needs_background": "light"
          }
        }
      ]
    },
    {
      "cell_type": "markdown",
      "metadata": {
        "id": "bCt2ImDKuRBt"
      },
      "source": [
        "Для MC строить не будем"
      ]
    },
    {
      "cell_type": "markdown",
      "metadata": {
        "id": "AbgdbEqfObuQ"
      },
      "source": [
        "В целом Q-обучение показало себя куда лучше наивного подхода. \n",
        "\n",
        "Также в целом новые правила игры показали себя лучше базовых правил"
      ]
    },
    {
      "cell_type": "code",
      "metadata": {
        "id": "CziG2mriuUZe"
      },
      "source": [
        "  "
      ],
      "execution_count": null,
      "outputs": []
    }
  ]
}